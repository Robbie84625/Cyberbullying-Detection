{
 "cells": [
  {
   "cell_type": "markdown",
   "id": "c94fa551",
   "metadata": {},
   "source": [
    "## 匯入套件"
   ]
  },
  {
   "cell_type": "code",
   "execution_count": 1,
   "id": "19b32ec3",
   "metadata": {},
   "outputs": [],
   "source": [
    "import pandas as pd\n",
    "\n",
    "\n",
    "from sklearn import linear_model\n",
    "from sklearn.model_selection import cross_val_score\n",
    "from sklearn.model_selection import train_test_split\n",
    "from sklearn.model_selection import KFold\n",
    "from sklearn.metrics import f1_score, roc_auc_score, precision_score, recall_score, accuracy_score"
   ]
  },
  {
   "cell_type": "markdown",
   "id": "62c3d5d4",
   "metadata": {},
   "source": [
    "## 導入 BOW資料"
   ]
  },
  {
   "cell_type": "code",
   "execution_count": 2,
   "id": "52b87653",
   "metadata": {},
   "outputs": [],
   "source": [
    "BagOfWord = pd.read_csv(r\"..\\data1\\學長data\\標記答案_最終答案\\wordbag.csv\", header=0,index_col=None)\n",
    "\n",
    "BOW_X=BagOfWord .iloc[:, :-1]\n",
    "BOW_Y=BagOfWord['answer']"
   ]
  },
  {
   "cell_type": "markdown",
   "id": "060dc1a2",
   "metadata": {},
   "source": [
    "## 導入 TF-IDF資料"
   ]
  },
  {
   "cell_type": "markdown",
   "id": "f9f3cca8",
   "metadata": {},
   "source": [
    "#### TF-IDF 1000字資料導入"
   ]
  },
  {
   "cell_type": "code",
   "execution_count": 3,
   "id": "d021678a",
   "metadata": {},
   "outputs": [],
   "source": [
    "TFIDF_1000 = pd.read_csv(r\"..\\data1\\學長data\\標記答案_最終答案\\TF-IDF(1000).csv\", header=0,index_col=None)\n",
    "\n",
    "TFIDF_1000_X = TFIDF_1000.iloc[:, :-1] # Features\n",
    "TFIDF_1000_y = TFIDF_1000['answer'] # Target variable"
   ]
  },
  {
   "cell_type": "markdown",
   "id": "e1321b4f",
   "metadata": {},
   "source": [
    "#### TF-IDF 500字資料導入"
   ]
  },
  {
   "cell_type": "code",
   "execution_count": 4,
   "id": "8810b7dc",
   "metadata": {},
   "outputs": [],
   "source": [
    "TFIDF_500 = pd.read_csv(r\"..\\data1\\學長data\\標記答案_最終答案\\TF-IDF(500).csv\", header=0, index_col=None)\n",
    "\n",
    "TFIDF_500_X = TFIDF_500.iloc[:, :-1] # Features\n",
    "TFIDF_500_y = TFIDF_500['answer'] # Target variable"
   ]
  },
  {
   "cell_type": "markdown",
   "id": "51776653",
   "metadata": {},
   "source": [
    "## Bag of words 天真貝氏"
   ]
  },
  {
   "cell_type": "code",
   "execution_count": 5,
   "id": "2be6c713",
   "metadata": {},
   "outputs": [],
   "source": [
    "LR=linear_model.LogisticRegression()\n",
    "KF = KFold(n_splits=10, shuffle=True) "
   ]
  },
  {
   "cell_type": "code",
   "execution_count": 6,
   "id": "b420f895",
   "metadata": {},
   "outputs": [
    {
     "name": "stdout",
     "output_type": "stream",
     "text": [
      "\n",
      "Accuracy: 61.05%\n",
      "\n",
      "Precision: 57.44%\n",
      "\n",
      "Recall: 89.89%\n",
      "\n",
      "F1 (weighted): 57.47%\n",
      "\n",
      "F1 (micro): 61.22%\n",
      "\n",
      "F1 (macro): 57.74%\n",
      "\n",
      "AUC: 60.93%\n"
     ]
    }
   ],
   "source": [
    "BOW_LR_acc=cross_val_score(LR,BOW_X,BOW_Y,cv=KF,scoring='accuracy')\n",
    "print(f\"\\nAccuracy: {BOW_LR_acc.mean():.2%}\")\n",
    "\n",
    "BOW_LR_precision = cross_val_score(LR,BOW_X,BOW_Y,cv=KF,scoring='precision')\n",
    "print(f\"\\nPrecision: {BOW_LR_precision.mean():.2%}\")\n",
    "\n",
    "BOW_LR_recall = cross_val_score(LR,BOW_X,BOW_Y,cv=KF,scoring='recall')\n",
    "print(f\"\\nRecall: {BOW_LR_recall.mean():.2%}\")\n",
    "\n",
    "BOW_LR_f1_W = cross_val_score(LR,BOW_X,Bow_y,cv=KF,scoring='f1_weighted')\n",
    "print(f\"\\nF1 (weighted): {BOW_LR_f1_W.mean():.2%}\")\n",
    "\n",
    "BOW_LR_f1_Mi = cross_val_score(LR,BOW_X,Bow_y,cv=KF,scoring='f1_micro')\n",
    "print(f\"\\nF1 (micro): {BOW_LR_f1_Mi.mean():.2%}\")\n",
    "\n",
    "BOW_LR_f1_Ma = cross_val_score(LR,BOW_X,Bow_y,cv=KF,scoring='f1_macro')\n",
    "print(f\"\\nF1 (macro): {BOW_LR_f1_Ma.mean():.2%}\")\n",
    "\n",
    "BOW_LR_auc = cross_val_score(LR,BOW_X,Bow_y,cv=KF,scoring='roc_auc')\n",
    "print(f\"\\nAUC: {BOW_LR_auc.mean():.2%}\")"
   ]
  },
  {
   "cell_type": "markdown",
   "id": "a0920a07",
   "metadata": {},
   "source": [
    "## TF-IDF 1000字 天真貝氏"
   ]
  },
  {
   "cell_type": "code",
   "execution_count": 7,
   "id": "d8264641",
   "metadata": {},
   "outputs": [
    {
     "name": "stdout",
     "output_type": "stream",
     "text": [
      "\n",
      "Accuracy: 67.13%\n",
      "\n",
      "Precion: 62.56%\n",
      "\n",
      "Recall: 84.08%\n",
      "\n",
      "F1 (weighted): 65.19%\n",
      "\n",
      "F1 (micro): 66.17%\n",
      "\n",
      "F1 (macro): 64.93%\n",
      "\n",
      "AUC: 67.46%\n"
     ]
    }
   ],
   "source": [
    "TFIDF_1000_NB_acc=cross_val_score(NB,TFIDF_1000_X,TFIDF_1000_y,cv=KF,scoring='accuracy')\n",
    "print(f\"\\nAccuracy: {TFIDF_1000_NB_acc.mean():.2%}\")\n",
    "\n",
    "TFIDF_1000_NB_precision= cross_val_score(NB,TFIDF_1000_X,TFIDF_1000_y,cv=KF,scoring='precision')\n",
    "print(f\"\\nPrecion: {TFIDF_1000_NB_precision.mean():.2%}\")\n",
    "\n",
    "TFIDF_1000_NB_recall = cross_val_score(NB,TFIDF_1000_X,TFIDF_1000_y,cv=KF,scoring='recall')\n",
    "print(f\"\\nRecall: {TFIDF_1000_NB_recall.mean():.2%}\")\n",
    "\n",
    "TFIDF_1000_NB_f1_W= cross_val_score(NB,TFIDF_1000_X,TFIDF_1000_y,cv=KF,scoring='f1_weighted')\n",
    "print(f\"\\nF1 (weighted): {TFIDF_1000_NB_f1_W.mean():.2%}\")\n",
    "\n",
    "TFIDF_1000_NB_f1_Mi= cross_val_score(NB,TFIDF_1000_X,TFIDF_1000_y,cv=KF,scoring='f1_micro')\n",
    "print(f\"\\nF1 (micro): {TFIDF_1000_NB_f1_Mi.mean():.2%}\")\n",
    "\n",
    "TFIDF_1000_NB_f1_Ma= cross_val_score(NB,TFIDF_1000_X,TFIDF_1000_y,cv=KF,scoring='f1_macro')\n",
    "print(f\"\\nF1 (macro): {TFIDF_1000_NB_f1_Ma.mean():.2%}\")\n",
    "\n",
    "TFIDF_1000_NB_auc = cross_val_score(NB,TFIDF_1000_X,TFIDF_1000_y,cv=KF,scoring='roc_auc')\n",
    "print(f\"\\nAUC: {TFIDF_1000_NB_auc.mean():.2%}\")"
   ]
  },
  {
   "cell_type": "markdown",
   "id": "1727e9d9",
   "metadata": {},
   "source": [
    "## TF-IDF 500字 天真貝氏"
   ]
  },
  {
   "cell_type": "code",
   "execution_count": null,
   "id": "f1c0b62b",
   "metadata": {},
   "outputs": [
    {
     "name": "stdout",
     "output_type": "stream",
     "text": [
      "\n",
      "Accuracy: 70.50%\n",
      "\n",
      "Precion: 85.48%\n",
      "\n",
      "Recall: 49.89%\n",
      "\n",
      "F1 (weighted): 69.46%\n",
      "\n",
      "F1 (micro): 70.95%\n"
     ]
    }
   ],
   "source": [
    "TFIDF_500_NB_acc=cross_val_score(NB,TFIDF_500_X,TFIDF_500_y,cv=KF,scoring='accuracy')\n",
    "print(f\"\\nAccuracy: {TFIDF_500_NB_acc.mean():.2%}\")\n",
    "\n",
    "TFIDF_500_NB_precision= cross_val_score(NB,TFIDF_500_X,TFIDF_500_y,cv=KF,scoring='precision')\n",
    "print(f\"\\nPrecion: {TFIDF_500_NB_precision.mean():.2%}\")\n",
    "\n",
    "TFIDF_500_NB_recall = cross_val_score(NB,TFIDF_500_X,TFIDF_500_y,cv=KF,scoring='recall')\n",
    "print(f\"\\nRecall: {TFIDF_500_NB_recall.mean():.2%}\")\n",
    "\n",
    "TFIDF_500_NB_f1_W= cross_val_score(NB,TFIDF_500_X,TFIDF_500_y,cv=KF,scoring='f1_weighted')\n",
    "print(f\"\\nF1 (weighted): {TFIDF_500_NB_f1_W.mean():.2%}\")\n",
    "\n",
    "TFIDF_500_NB_f1_Mi= cross_val_score(NB,TFIDF_500_X,TFIDF_500_y,cv=KF,scoring='f1_micro')\n",
    "print(f\"\\nF1 (micro): {TFIDF_500_NB_f1_Mi.mean():.2%}\")\n",
    "\n",
    "TFIDF_500_NB_f1_Ma= cross_val_score(NB,TFIDF_500_X,TFIDF_500_y,cv=KF,scoring='f1_macro')\n",
    "print(f\"\\nF1 (macro): {TFIDF_500_NB_f1_Ma.mean():.2%}\")\n",
    "\n",
    "TFIDF_500_NB_auc = cross_val_score(NB,TFIDF_500_X,TFIDF_500_y,cv=KF,scoring='roc_auc')\n",
    "print(f\"\\nAUC: {TFIDF_500_NB_auc.mean():.2%}\")"
   ]
  }
 ],
 "metadata": {
  "kernelspec": {
   "display_name": "Python 3 (ipykernel)",
   "language": "python",
   "name": "python3"
  },
  "language_info": {
   "codemirror_mode": {
    "name": "ipython",
    "version": 3
   },
   "file_extension": ".py",
   "mimetype": "text/x-python",
   "name": "python",
   "nbconvert_exporter": "python",
   "pygments_lexer": "ipython3",
   "version": "3.7.13"
  }
 },
 "nbformat": 4,
 "nbformat_minor": 5
}

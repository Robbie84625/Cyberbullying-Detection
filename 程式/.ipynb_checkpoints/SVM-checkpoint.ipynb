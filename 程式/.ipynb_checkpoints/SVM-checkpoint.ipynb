{
 "cells": [
  {
   "cell_type": "markdown",
   "id": "c94fa551",
   "metadata": {},
   "source": [
    "## 匯入套件"
   ]
  },
  {
   "cell_type": "code",
   "execution_count": 1,
   "id": "19b32ec3",
   "metadata": {},
   "outputs": [],
   "source": [
    "import pandas as pd\n",
    "\n",
    "from sklearn import svm\n",
    "from sklearn.model_selection import cross_val_score\n",
    "from sklearn.model_selection import train_test_split\n",
    "from sklearn.model_selection import KFold\n",
    "from sklearn.metrics import f1_score, roc_auc_score, precision_score, recall_score, accuracy_score"
   ]
  },
  {
   "cell_type": "markdown",
   "id": "62c3d5d4",
   "metadata": {},
   "source": [
    "## 導入 BOW資料"
   ]
  },
  {
   "cell_type": "code",
   "execution_count": 2,
   "id": "52b87653",
   "metadata": {},
   "outputs": [],
   "source": [
    "BagOfWord = pd.read_csv(r\"..\\data1\\學長data\\標記答案_最終答案\\wordbag.csv\", header=0,index_col=None)\n",
    "\n",
    "BOW_X=BagOfWord .iloc[:, :-1]\n",
    "BOW_Y=BagOfWord['answer']"
   ]
  },
  {
   "cell_type": "markdown",
   "id": "060dc1a2",
   "metadata": {},
   "source": [
    "## 導入 TF-IDF資料"
   ]
  },
  {
   "cell_type": "markdown",
   "id": "f9f3cca8",
   "metadata": {},
   "source": [
    "#### TF-IDF 1000字資料導入"
   ]
  },
  {
   "cell_type": "code",
   "execution_count": 3,
   "id": "d021678a",
   "metadata": {},
   "outputs": [],
   "source": [
    "TFIDF_1000 = pd.read_csv(r\"..\\data1\\學長data\\標記答案_最終答案\\TF-IDF(1000).csv\", header=0,index_col=None)\n",
    "\n",
    "TFIDF_1000_X = TFIDF_1000.iloc[:, :-1] # Features\n",
    "TFIDF_1000_y = TFIDF_1000['answer'] # Target variable"
   ]
  },
  {
   "cell_type": "markdown",
   "id": "e1321b4f",
   "metadata": {},
   "source": [
    "#### TF-IDF 500字資料導入"
   ]
  },
  {
   "cell_type": "code",
   "execution_count": 4,
   "id": "8810b7dc",
   "metadata": {},
   "outputs": [],
   "source": [
    "TFIDF_500 = pd.read_csv(r\"..\\data1\\學長data\\標記答案_最終答案\\TF-IDF(500).csv\", header=0, index_col=None)\n",
    "\n",
    "TFIDF_500_X = TFIDF_500.iloc[:, :-1] # Features\n",
    "TFIDF_500_y = TFIDF_500['answer'] # Target variable"
   ]
  },
  {
   "cell_type": "markdown",
   "id": "51776653",
   "metadata": {},
   "source": [
    "## Bag of words 天真貝氏"
   ]
  },
  {
   "cell_type": "code",
   "execution_count": 5,
   "id": "71844d9d",
   "metadata": {},
   "outputs": [],
   "source": [
    "SVM=svm.SVC()\n",
    "KF = KFold(n_splits=10, shuffle=True) "
   ]
  },
  {
   "cell_type": "code",
   "execution_count": 6,
   "id": "b420f895",
   "metadata": {},
   "outputs": [
    {
     "ename": "NameError",
     "evalue": "name 'Bow_X' is not defined",
     "output_type": "error",
     "traceback": [
      "\u001b[1;31m---------------------------------------------------------------------------\u001b[0m",
      "\u001b[1;31mNameError\u001b[0m                                 Traceback (most recent call last)",
      "\u001b[1;32m~\\AppData\\Local\\Temp\\ipykernel_5840\\1409096946.py\u001b[0m in \u001b[0;36m<module>\u001b[1;34m\u001b[0m\n\u001b[1;32m----> 1\u001b[1;33m \u001b[0mBOW_SVM_acc\u001b[0m\u001b[1;33m=\u001b[0m\u001b[0mcross_val_score\u001b[0m\u001b[1;33m(\u001b[0m\u001b[0mSVM\u001b[0m\u001b[1;33m,\u001b[0m\u001b[0mBow_X\u001b[0m\u001b[1;33m,\u001b[0m\u001b[0mBow_y\u001b[0m\u001b[1;33m,\u001b[0m\u001b[0mcv\u001b[0m\u001b[1;33m=\u001b[0m\u001b[0mKF\u001b[0m\u001b[1;33m,\u001b[0m\u001b[0mscoring\u001b[0m\u001b[1;33m=\u001b[0m\u001b[1;34m'accuracy'\u001b[0m\u001b[1;33m)\u001b[0m\u001b[1;33m\u001b[0m\u001b[1;33m\u001b[0m\u001b[0m\n\u001b[0m\u001b[0;32m      2\u001b[0m \u001b[0mprint\u001b[0m\u001b[1;33m(\u001b[0m\u001b[1;34mf\"\\nAccuracy: {BOW_SVM_acc.mean():.2%}\"\u001b[0m\u001b[1;33m)\u001b[0m\u001b[1;33m\u001b[0m\u001b[1;33m\u001b[0m\u001b[0m\n\u001b[0;32m      3\u001b[0m \u001b[1;33m\u001b[0m\u001b[0m\n\u001b[0;32m      4\u001b[0m \u001b[0mBOW_SVM_precision\u001b[0m \u001b[1;33m=\u001b[0m \u001b[0mcross_val_score\u001b[0m\u001b[1;33m(\u001b[0m\u001b[0mSVM\u001b[0m\u001b[1;33m,\u001b[0m\u001b[0mBow_X\u001b[0m\u001b[1;33m,\u001b[0m\u001b[0mBow_y\u001b[0m\u001b[1;33m,\u001b[0m\u001b[0mcv\u001b[0m\u001b[1;33m=\u001b[0m\u001b[0mKF\u001b[0m\u001b[1;33m,\u001b[0m\u001b[0mscoring\u001b[0m\u001b[1;33m=\u001b[0m\u001b[1;34m'precision'\u001b[0m\u001b[1;33m)\u001b[0m\u001b[1;33m\u001b[0m\u001b[1;33m\u001b[0m\u001b[0m\n\u001b[0;32m      5\u001b[0m \u001b[0mprint\u001b[0m\u001b[1;33m(\u001b[0m\u001b[1;34mf\"\\nPrecision: {BOW_SVM_precision.mean():.2%}\"\u001b[0m\u001b[1;33m)\u001b[0m\u001b[1;33m\u001b[0m\u001b[1;33m\u001b[0m\u001b[0m\n",
      "\u001b[1;31mNameError\u001b[0m: name 'Bow_X' is not defined"
     ]
    }
   ],
   "source": [
    "BOW_SVM_acc=cross_val_score(SVM,Bow_X,Bow_y,cv=KF,scoring='accuracy')\n",
    "print(f\"\\nAccuracy: {BOW_SVM_acc.mean():.2%}\")\n",
    "\n",
    "BOW_SVM_precision = cross_val_score(SVM,Bow_X,Bow_y,cv=KF,scoring='precision')\n",
    "print(f\"\\nPrecision: {BOW_SVM_precision.mean():.2%}\")\n",
    "\n",
    "BOW_SVM_recall = cross_val_score(SVM,Bow_X,Bow_y,cv=KF,scoring='recall')\n",
    "print(f\"\\nRecall: {BOW_SVM_recall.mean():.2%}\")\n",
    "\n",
    "BOW_SVM_f1_W = cross_val_score(SVM,Bow_X,Bow_y,cv=KF,scoring='f1_weighted')\n",
    "print(f\"\\nF1 (weighted): {BOW_SVM_f1_W.mean():.2%}\")\n",
    "\n",
    "BOW_SVM_f1_Mi = cross_val_score(SVM,Bow_X,Bow_y,cv=KF,scoring='f1_micro')\n",
    "print(f\"\\nF1 (micro): {BOW_SVM_f1_Mi.mean():.2%}\")\n",
    "\n",
    "BOW_SVM_f1_Ma = cross_val_score(SVM,Bow_X,Bow_y,cv=KF,scoring='f1_macro')\n",
    "print(f\"\\nF1 (macro): {BOW_SVM_f1_Ma.mean():.2%}\")\n",
    "\n",
    "BOW_SVM_auc = cross_val_score(SVM,Bow_X,Bow_y,cv=KF,scoring='roc_auc')\n",
    "print(f\"\\nAUC: {BOW_SVM_auc.mean():.2%}\")"
   ]
  },
  {
   "cell_type": "markdown",
   "id": "a0920a07",
   "metadata": {},
   "source": [
    "## TF-IDF 1000字 天真貝氏"
   ]
  },
  {
   "cell_type": "code",
   "execution_count": null,
   "id": "d8264641",
   "metadata": {},
   "outputs": [],
   "source": [
    "TFIDF_1000_SVM_acc=cross_val_score(SVM,TFIDF_1000_X,TFIDF_1000_y,cv=KF,scoring='accuracy')\n",
    "print(f\"\\nAccuracy: {TFIDF_1000_SVM_acc.mean():.2%}\")\n",
    "\n",
    "TFIDF_1000_SVM_precision= cross_val_score(SVM,TFIDF_1000_X,TFIDF_1000_y,cv=KF,scoring='precision')\n",
    "print(f\"\\nPrecion: {TFIDF_1000_SVM_precision.mean():.2%}\")\n",
    "\n",
    "TFIDF_1000_SVM_recall = cross_val_score(SVM,TFIDF_1000_X,TFIDF_1000_y,cv=KF,scoring='recall')\n",
    "print(f\"\\nRecall: {TFIDF_1000_SVM_recall.mean():.2%}\")\n",
    "\n",
    "TFIDF_1000_SVM_f1_W= cross_val_score(SVM,TFIDF_1000_X,TFIDF_1000_y,cv=KF,scoring='f1_weighted')\n",
    "print(f\"\\nF1 (weighted): {TFIDF_1000_SVM_f1_W.mean():.2%}\")\n",
    "\n",
    "TFIDF_1000_SVM_f1_Mi= cross_val_score(SVM,TFIDF_1000_X,TFIDF_1000_y,cv=KF,scoring='f1_micro')\n",
    "print(f\"\\nF1 (micro): {TFIDF_1000_SVM_f1_Mi.mean():.2%}\")\n",
    "\n",
    "TFIDF_1000_SVM_f1_Ma= cross_val_score(SVM,TFIDF_1000_X,TFIDF_1000_y,cv=KF,scoring='f1_macro')\n",
    "print(f\"\\nF1 (macro): {TFIDF_1000_SVM_f1_Ma.mean():.2%}\")\n",
    "\n",
    "TFIDF_1000_SVM_auc = cross_val_score(SVM,TFIDF_1000_X,TFIDF_1000_y,cv=KF,scoring='roc_auc')\n",
    "print(f\"\\nAUC: {TFIDF_1000_SVM_auc.mean():.2%}\")"
   ]
  },
  {
   "cell_type": "markdown",
   "id": "1727e9d9",
   "metadata": {},
   "source": [
    "## TF-IDF 500字 天真貝氏"
   ]
  },
  {
   "cell_type": "code",
   "execution_count": null,
   "id": "f1c0b62b",
   "metadata": {},
   "outputs": [],
   "source": [
    "TFIDF_500_SVM_acc=cross_val_score(SVM,TFIDF_500_X,TFIDF_500_y,cv=KF,scoring='accuracy')\n",
    "print(f\"\\nAccuracy: {TFIDF_500_SVM_acc.mean():.2%}\")\n",
    "\n",
    "TFIDF_500_SVM_precision= cross_val_score(SVM,TFIDF_1000_X,TFIDF_1000_y,cv=KF,scoring='precision')\n",
    "print(f\"\\nPrecion: {TFIDF_1000_SVM_precision.mean():.2%}\")\n",
    "\n",
    "TFIDF_1000_SVM_recall = cross_val_score(SVM,TFIDF_1000_X,TFIDF_1000_y,cv=KF,scoring='recall')\n",
    "print(f\"\\nRecall: {TFIDF_1000_SVM_recall.mean():.2%}\")\n",
    "\n",
    "TFIDF_1000_SVM_f1_W= cross_val_score(SVM,TFIDF_1000_X,TFIDF_1000_y,cv=KF,scoring='f1_weighted')\n",
    "print(f\"\\nF1 (weighted): {TFIDF_1000_SVM_f1_W.mean():.2%}\")\n",
    "\n",
    "TFIDF_1000_SVM_f1_Mi= cross_val_score(SVM,TFIDF_1000_X,TFIDF_1000_y,cv=KF,scoring='f1_micro')\n",
    "print(f\"\\nF1 (micro): {TFIDF_1000_SVM_f1_Mi.mean():.2%}\")\n",
    "\n",
    "TFIDF_1000_SVM_f1_Ma= cross_val_score(SVM,TFIDF_1000_X,TFIDF_1000_y,cv=KF,scoring='f1_macro')\n",
    "print(f\"\\nF1 (macro): {TFIDF_1000_SVM_f1_Ma.mean():.2%}\")\n",
    "\n",
    "TFIDF_1000_SVM_auc = cross_val_score(SVM,TFIDF_1000_X,TFIDF_1000_y,cv=KF,scoring='roc_auc')\n",
    "print(f\"\\nAUC: {TFIDF_1000_SVM_auc.mean():.2%}\")"
   ]
  }
 ],
 "metadata": {
  "kernelspec": {
   "display_name": "Python 3 (ipykernel)",
   "language": "python",
   "name": "python3"
  },
  "language_info": {
   "codemirror_mode": {
    "name": "ipython",
    "version": 3
   },
   "file_extension": ".py",
   "mimetype": "text/x-python",
   "name": "python",
   "nbconvert_exporter": "python",
   "pygments_lexer": "ipython3",
   "version": "3.7.13"
  }
 },
 "nbformat": 4,
 "nbformat_minor": 5
}

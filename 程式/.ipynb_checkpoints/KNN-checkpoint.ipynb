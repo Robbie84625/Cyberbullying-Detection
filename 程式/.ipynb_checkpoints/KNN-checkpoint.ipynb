{
 "cells": [
  {
   "cell_type": "markdown",
   "id": "c94fa551",
   "metadata": {},
   "source": [
    "## 匯入套件"
   ]
  },
  {
   "cell_type": "code",
   "execution_count": 2,
   "id": "19b32ec3",
   "metadata": {},
   "outputs": [],
   "source": [
    "import pandas as pd\n",
    "\n",
    "from sklearn.tree import DecisionTreeClassifier\n",
    "from sklearn.ensemble import RandomForestClassifier\n",
    "from sklearn.neighbors import KNeighborsClassifier\n",
    "from sklearn.naive_bayes import GaussianNB\n",
    "from xgboost import XGBClassifier\n",
    "from sklearn import linear_model\n",
    "\n",
    "from sklearn.model_selection import cross_val_score\n",
    "from sklearn.model_selection import train_test_split\n",
    "from sklearn.model_selection import KFold\n",
    "from sklearn.metrics import f1_score, roc_auc_score, precision_score, recall_score, accuracy_score"
   ]
  },
  {
   "cell_type": "markdown",
   "id": "62c3d5d4",
   "metadata": {},
   "source": [
    "## 導入 BOW資料"
   ]
  },
  {
   "cell_type": "code",
   "execution_count": 18,
   "id": "52b87653",
   "metadata": {},
   "outputs": [],
   "source": [
    "BagOfWord = pd.read_csv(r\"..\\data1\\學長data\\標記答案_最終答案\\wordbag.csv\", header=0,index_col=None)\n",
    "\n",
    "BOW_X=BagOfWord .iloc[:, :-1]\n",
    "BOW_Y=BagOfWord['answer']"
   ]
  },
  {
   "cell_type": "markdown",
   "id": "060dc1a2",
   "metadata": {},
   "source": [
    "## 導入 TF-IDF資料"
   ]
  },
  {
   "cell_type": "markdown",
   "id": "f9f3cca8",
   "metadata": {},
   "source": [
    "#### TF-IDF 1000字資料導入"
   ]
  },
  {
   "cell_type": "code",
   "execution_count": 27,
   "id": "d021678a",
   "metadata": {},
   "outputs": [],
   "source": [
    "TFIDF_1000 = pd.read_csv(r\"..\\data1\\學長data\\標記答案_最終答案\\TF-IDF(1000).csv\", header=0,index_col=None)\n",
    "\n",
    "TFIDF_1000_X = TFIDF_1000.iloc[:, :-1] # Features\n",
    "TFIDF_1000_y = TFIDF_1000['answer'] # Target variable"
   ]
  },
  {
   "cell_type": "markdown",
   "id": "e1321b4f",
   "metadata": {},
   "source": [
    "#### TF-IDF 500字資料導入"
   ]
  },
  {
   "cell_type": "code",
   "execution_count": 34,
   "id": "8810b7dc",
   "metadata": {},
   "outputs": [],
   "source": [
    "TFIDF_500 = pd.read_csv(r\"..\\data1\\學長data\\標記答案_最終答案\\TF-IDF(500).csv\", header=0, index_col=None)\n",
    "\n",
    "TFIDF_500_X = TFIDF_500.iloc[:, :-1] # Features\n",
    "TFIDF_500_y = TFIDF_500['answer'] # Target variable"
   ]
  },
  {
   "cell_type": "markdown",
   "id": "51776653",
   "metadata": {},
   "source": [
    "## Bag of words KNN"
   ]
  },
  {
   "cell_type": "code",
   "execution_count": 39,
   "id": "b420f895",
   "metadata": {},
   "outputs": [
    {
     "name": "stdout",
     "output_type": "stream",
     "text": [
      "\n",
      "Accuracy: 73.38%\n",
      "\n",
      "Precision: 78.07%\n",
      "\n",
      "Recall: 66.39%\n",
      "\n",
      "F1 (weighted): 73.79%\n",
      "\n",
      "F1 (micro): 74.06%\n",
      "\n",
      "F1 (macro): 73.23%\n",
      "\n",
      "AUC: 76.54%\n"
     ]
    }
   ],
   "source": [
    "DT = DecisionTreeClassifier()\n",
    "KF = KFold(n_splits=10, shuffle=True) \n",
    "\n",
    "BOW_DT_acc = cross_val_score(DT,BOW_X,BOW_Y,cv=KF,scoring='accuracy')\n",
    "print(f\"\\nAccuracy: {BOW_DT_acc.mean():.2%}\")\n",
    "\n",
    "BOW_DT_precision = cross_val_score(DT,BOW_X,BOW_Y,cv=KF,scoring='precision')\n",
    "print(f\"\\nPrecision: {BOW_DT_precision.mean():.2%}\")\n",
    "\n",
    "BOW_DT_recall = cross_val_score(DT,BOW_X,BOW_Y,cv=KF,scoring='recall')\n",
    "print(f\"\\nRecall: {BOW_DT_recall.mean():.2%}\")\n",
    "\n",
    "BOW_DT_f1_W = cross_val_score(DT,BOW_X,BOW_Y,cv=KF,scoring='f1_weighted')\n",
    "print(f\"\\nF1 (weighted): {BOW_DT_f1_W.mean():.2%}\")\n",
    "\n",
    "BOW_DT_f1_Mi = cross_val_score(DT,BOW_X,BOW_Y,cv=KF,scoring='f1_micro')\n",
    "print(f\"\\nF1 (micro): {BOW_DT_f1_Mi.mean():.2%}\")\n",
    "\n",
    "BOW_DT_f1_Ma = cross_val_score(DT,BOW_X,BOW_Y,cv=KF,scoring='f1_macro')\n",
    "print(f\"\\nF1 (macro): {BOW_DT_f1_Ma.mean():.2%}\")\n",
    "\n",
    "BOW_DT_auc = cross_val_score(DT,BOW_X,BOW_Y,cv=KF,scoring='roc_auc')\n",
    "print(f\"\\nAUC: {BOW_DT_auc.mean():.2%}\")"
   ]
  },
  {
   "cell_type": "markdown",
   "id": "a0920a07",
   "metadata": {},
   "source": [
    "## TF-IDF 1000字 決策樹"
   ]
  },
  {
   "cell_type": "code",
   "execution_count": 35,
   "id": "d8264641",
   "metadata": {},
   "outputs": [
    {
     "name": "stdout",
     "output_type": "stream",
     "text": [
      "\n",
      "Accuracy: 71.87%\n",
      "\n",
      "Precion: 74.51%\n",
      "\n",
      "Recall: 68.21%\n",
      "\n",
      "F1 (weighted): 72.47%\n",
      "\n",
      "F1 (micro): 72.71%\n",
      "\n",
      "F1 (macro): 72.36%\n",
      "\n",
      "AUC: 75.66%\n"
     ]
    }
   ],
   "source": [
    "TFIDF_1000_DT_acc = cross_val_score(DT,TFIDF_1000_X,TFIDF_1000_y,cv=KF,scoring='accuracy')\n",
    "print(f\"\\nAccuracy: {TFIDF_1000_DT_acc.mean():.2%}\")\n",
    "\n",
    "TFIDF_1000_precision = cross_val_score(DT,TFIDF_1000_X,TFIDF_1000_y,cv=KF,scoring='precision')\n",
    "print(f\"\\nPrecion: {TFIDF_1000_precision.mean():.2%}\")\n",
    "\n",
    "TFIDF_1000_DT_recall = cross_val_score(DT,TFIDF_1000_X,TFIDF_1000_y,cv=KF,scoring='recall')\n",
    "print(f\"\\nRecall: {TFIDF_1000_DT_recall.mean():.2%}\")\n",
    "\n",
    "TFIDF_1000_DT_f1_W = cross_val_score(DT,TFIDF_1000_X,TFIDF_1000_y,cv=KF,scoring='f1_weighted')\n",
    "print(f\"\\nF1 (weighted): {TFIDF_1000_DT_f1_W.mean():.2%}\")\n",
    "\n",
    "TFIDF_1000_DT_f1_Mi = cross_val_score(DT,TFIDF_1000_X,TFIDF_1000_y,cv=KF,scoring='f1_micro')\n",
    "print(f\"\\nF1 (micro): {TFIDF_1000_DT_f1_Mi.mean():.2%}\")\n",
    "\n",
    "TFIDF_1000_DT_f1_Ma = cross_val_score(DT,TFIDF_1000_X,TFIDF_1000_y,cv=KF,scoring='f1_macro')\n",
    "print(f\"\\nF1 (macro): {TFIDF_1000_DT_f1_Ma.mean():.2%}\")\n",
    "\n",
    "TFIDF_1000_DT_auc = cross_val_score(DT,TFIDF_1000_X,TFIDF_1000_y,cv=KF,scoring='roc_auc')\n",
    "print(f\"\\nAUC: {TFIDF_1000_DT_auc.mean():.2%}\")"
   ]
  },
  {
   "cell_type": "markdown",
   "id": "1727e9d9",
   "metadata": {},
   "source": [
    "## TF-IDF 500字 決策樹"
   ]
  },
  {
   "cell_type": "code",
   "execution_count": 36,
   "id": "f1c0b62b",
   "metadata": {},
   "outputs": [
    {
     "name": "stdout",
     "output_type": "stream",
     "text": [
      "\n",
      "Accuracy: 71.24%\n",
      "\n",
      "Precion: 76.15%\n",
      "\n",
      "Recall: 64.54%\n",
      "\n",
      "F1 (weighted): 71.11%\n",
      "\n",
      "F1 (micro): 71.87%\n",
      "\n",
      "F1 (macro): 71.29%\n",
      "\n",
      "AUC: 75.21%\n"
     ]
    }
   ],
   "source": [
    "TFIDF_500_DT_acc = cross_val_score(DT,TFIDF_500_X,TFIDF_500_y,cv=KF,scoring='accuracy')\n",
    "print(f\"\\nAccuracy: {TFIDF_500_DT_acc.mean():.2%}\")\n",
    "\n",
    "TFIDF_500_precision = cross_val_score(DT,TFIDF_500_X,TFIDF_500_y,cv=KF,scoring='precision')\n",
    "print(f\"\\nPrecion: {TFIDF_500_precision.mean():.2%}\")\n",
    "\n",
    "TFIDF_500_DT_recall = cross_val_score(DT,TFIDF_500_X,TFIDF_500_y,cv=KF,scoring='recall')\n",
    "print(f\"\\nRecall: {TFIDF_500_DT_recall.mean():.2%}\")\n",
    "\n",
    "TFIDF_500_DT_f1_W = cross_val_score(DT,TFIDF_500_X,TFIDF_500_y,cv=KF,scoring='f1_weighted')\n",
    "print(f\"\\nF1 (weighted): {TFIDF_500_DT_f1_W.mean():.2%}\")\n",
    "\n",
    "TFIDF_500_DT_f1_Mi = cross_val_score(DT,TFIDF_500_X,TFIDF_500_y,cv=KF,scoring='f1_micro')\n",
    "print(f\"\\nF1 (micro): {TFIDF_500_DT_f1_Mi.mean():.2%}\")\n",
    "\n",
    "TFIDF_500_DT_f1_Ma = cross_val_score(DT,TFIDF_500_X,TFIDF_500_y,cv=KF,scoring='f1_macro')\n",
    "print(f\"\\nF1 (macro): {TFIDF_500_DT_f1_Ma.mean():.2%}\")\n",
    "\n",
    "TFIDF_500_DT_auc = cross_val_score(DT,TFIDF_500_X,TFIDF_500_y,cv=KF,scoring='roc_auc')\n",
    "print(f\"\\nAUC: {TFIDF_500_DT_auc.mean():.2%}\")"
   ]
  }
 ],
 "metadata": {
  "kernelspec": {
   "display_name": "Python 3 (ipykernel)",
   "language": "python",
   "name": "python3"
  },
  "language_info": {
   "codemirror_mode": {
    "name": "ipython",
    "version": 3
   },
   "file_extension": ".py",
   "mimetype": "text/x-python",
   "name": "python",
   "nbconvert_exporter": "python",
   "pygments_lexer": "ipython3",
   "version": "3.7.13"
  }
 },
 "nbformat": 4,
 "nbformat_minor": 5
}

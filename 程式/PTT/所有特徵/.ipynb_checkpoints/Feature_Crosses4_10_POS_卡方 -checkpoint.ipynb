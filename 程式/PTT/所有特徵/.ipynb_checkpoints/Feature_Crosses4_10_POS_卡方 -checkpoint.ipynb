{
 "cells": [
  {
   "cell_type": "markdown",
   "id": "dabb98e4",
   "metadata": {},
   "source": [
    "### 匯入套件"
   ]
  },
  {
   "cell_type": "code",
   "execution_count": 1,
   "id": "298c6d91",
   "metadata": {},
   "outputs": [],
   "source": [
    "import pandas as pd\n",
    "import warnings"
   ]
  },
  {
   "cell_type": "code",
   "execution_count": 2,
   "id": "86417360",
   "metadata": {},
   "outputs": [],
   "source": [
    "from sklearn.tree import DecisionTreeClassifier    #決策樹\n",
    "from sklearn.ensemble import RandomForestClassifier#隨機森林\n",
    "from sklearn.naive_bayes import GaussianNB         #天真貝氏\n",
    "from sklearn.neighbors import KNeighborsClassifier #KNN\n",
    "from sklearn import linear_model                   #邏輯回歸\n",
    "from sklearn import svm                            #SVM"
   ]
  },
  {
   "cell_type": "code",
   "execution_count": 3,
   "id": "e50cee1e",
   "metadata": {},
   "outputs": [],
   "source": [
    "from sklearn.model_selection import cross_val_score\n",
    "from sklearn.model_selection import train_test_split\n",
    "from sklearn.model_selection import KFold\n",
    "from sklearn.metrics import f1_score, roc_auc_score, precision_score, recall_score, accuracy_score"
   ]
  },
  {
   "cell_type": "code",
   "execution_count": 4,
   "id": "62cfe2f1",
   "metadata": {},
   "outputs": [],
   "source": [
    "warnings.filterwarnings('ignore')"
   ]
  },
  {
   "cell_type": "markdown",
   "id": "4e9747d5",
   "metadata": {},
   "source": [
    "### 導入Bag of Words資料"
   ]
  },
  {
   "cell_type": "code",
   "execution_count": 5,
   "id": "1ea49e1a",
   "metadata": {},
   "outputs": [],
   "source": [
    "BagOfWord = pd.read_csv(r\"..\\..\\Feature_Array\\Main_Features\\Bag_of_Word.csv\", header=0,index_col=None)"
   ]
  },
  {
   "cell_type": "markdown",
   "id": "3465df7b",
   "metadata": {},
   "source": [
    "### 導入統計特徵資料(第一、第二、第三人稱代詞、留言長度)"
   ]
  },
  {
   "cell_type": "code",
   "execution_count": 6,
   "id": "967b511c",
   "metadata": {},
   "outputs": [],
   "source": [
    "Statistical_Features=pd.read_csv(r\"..\\..\\Feature_Array\\Extra_Features\\Statistical_Features.csv\", header=0, index_col=None)"
   ]
  },
  {
   "cell_type": "markdown",
   "id": "6a840897",
   "metadata": {},
   "source": [
    "### 導入10類詞性資料"
   ]
  },
  {
   "cell_type": "code",
   "execution_count": 7,
   "id": "68005ea8",
   "metadata": {},
   "outputs": [],
   "source": [
    "POS_data=pd.read_csv(r\"..\\..\\Feature_Array\\Extra_Features\\Simple_POS_data.csv\", header=0, index_col=None)"
   ]
  },
  {
   "cell_type": "markdown",
   "id": "af821aba",
   "metadata": {},
   "source": [
    "### 導入情感特徵資料(正面情感字數、負面情感字數、情感分數、表情符號數、表情符號情感分數)"
   ]
  },
  {
   "cell_type": "code",
   "execution_count": 8,
   "id": "69e23e0d",
   "metadata": {},
   "outputs": [],
   "source": [
    "Sentiment=pd.read_csv(r\"..\\..\\Feature_Array\\Extra_Features\\All_Sentiment.csv\", header=0, index_col=None)"
   ]
  },
  {
   "cell_type": "markdown",
   "id": "11322d85",
   "metadata": {},
   "source": [
    "### 導入卡方霸凌詞資料"
   ]
  },
  {
   "cell_type": "code",
   "execution_count": 9,
   "id": "e9f907a0",
   "metadata": {},
   "outputs": [],
   "source": [
    "BullyWord=pd.read_csv(r\"..\\..\\Feature_Array\\Extra_Features\\Chisquare_Bully_data.csv\", header=0, index_col=None)"
   ]
  },
  {
   "cell_type": "markdown",
   "id": "4e85f91f",
   "metadata": {},
   "source": [
    "### X：Bag of Words、統計特徵(包含10類詞性)、情感特徵、卡方霸凌詞"
   ]
  },
  {
   "cell_type": "code",
   "execution_count": 10,
   "id": "141e6a8e",
   "metadata": {},
   "outputs": [],
   "source": [
    "X =pd.concat([BagOfWord.iloc[:, :-1],Statistical_Features.iloc[:, 1:],POS_data.iloc[:, :],Sentiment.iloc[:, 1:],BullyWord.iloc[:, 1:]], axis=1) # Features\n",
    "Y = BagOfWord['answer'] # Target variable"
   ]
  },
  {
   "cell_type": "markdown",
   "id": "2a2a756b",
   "metadata": {},
   "source": [
    "### 宣告list 儲存評估指標結果"
   ]
  },
  {
   "cell_type": "code",
   "execution_count": 11,
   "id": "9fef78c2",
   "metadata": {},
   "outputs": [],
   "source": [
    "list_accuracy=[]\n",
    "list_precision=[]\n",
    "list_recall=[]\n",
    "list_f1_Weight=[]\n",
    "list_f1_Micro=[]\n",
    "list_f1_Macro=[]\n",
    "list_AUC=[]"
   ]
  },
  {
   "cell_type": "markdown",
   "id": "fa87fdf8",
   "metadata": {},
   "source": [
    "### 決策樹"
   ]
  },
  {
   "cell_type": "code",
   "execution_count": 12,
   "id": "89796235",
   "metadata": {},
   "outputs": [],
   "source": [
    "DT = DecisionTreeClassifier()\n",
    "KF = KFold(n_splits=10, shuffle=True) "
   ]
  },
  {
   "cell_type": "code",
   "execution_count": 13,
   "id": "0e3c8377",
   "metadata": {},
   "outputs": [],
   "source": [
    "DT_accuracy = cross_val_score(DT,X,Y,cv=KF,scoring='accuracy')\n",
    "list_accuracy.append(round(DT_accuracy.mean(),4))\n",
    "\n",
    "DT_precision = cross_val_score(DT,X,Y,cv=KF,scoring='precision')\n",
    "list_precision.append(round(DT_precision.mean(),4))\n",
    "\n",
    "DT_recall = cross_val_score(DT,X,Y,cv=KF,scoring='recall')\n",
    "list_recall.append(round(DT_recall.mean(),4))\n",
    "\n",
    "DT_f1_Weight = cross_val_score(DT,X,Y,cv=KF,scoring='f1_weighted')\n",
    "list_f1_Weight.append(round(DT_f1_Weight.mean(),4))\n",
    "\n",
    "DT_f1_Micro = cross_val_score(DT,X,Y,cv=KF,scoring='f1_micro')\n",
    "list_f1_Micro.append(round(DT_f1_Micro.mean(),4))\n",
    "\n",
    "DT_f1_Macro = cross_val_score(DT,X,Y,cv=KF,scoring='f1_macro')\n",
    "list_f1_Macro.append(round(DT_f1_Macro.mean(),4))\n",
    "\n",
    "DT_auc = cross_val_score(DT,X,Y,cv=KF,scoring='roc_auc')\n",
    "list_AUC.append(round(DT_auc.mean(),4))"
   ]
  },
  {
   "cell_type": "markdown",
   "id": "db32fa28",
   "metadata": {},
   "source": [
    "### 隨機森林"
   ]
  },
  {
   "cell_type": "code",
   "execution_count": 14,
   "id": "873569ea",
   "metadata": {},
   "outputs": [],
   "source": [
    "RF = RandomForestClassifier()\n",
    "KF = KFold(n_splits=10, shuffle=True) "
   ]
  },
  {
   "cell_type": "code",
   "execution_count": 15,
   "id": "5c79ae7e",
   "metadata": {},
   "outputs": [],
   "source": [
    "RF_accuracy =cross_val_score(RF,X,Y,cv=KF,scoring='accuracy')\n",
    "list_accuracy.append(round(RF_accuracy.mean(),4))\n",
    "\n",
    "RF_precision = cross_val_score(RF,X,Y,cv=KF,scoring='precision')\n",
    "list_precision.append(round(RF_precision.mean(),4))\n",
    "\n",
    "RF_recall = cross_val_score(RF,X,Y,cv=KF,scoring='recall')\n",
    "list_recall.append(round(RF_recall.mean(),4))\n",
    "\n",
    "RF_f1_Weight = cross_val_score(RF,X,Y,cv=KF,scoring='f1_weighted')\n",
    "list_f1_Weight.append(round(RF_f1_Weight.mean(),4))\n",
    "\n",
    "RF_f1_Micro = cross_val_score(RF,X,Y,cv=KF,scoring='f1_micro')\n",
    "list_f1_Micro.append(round(RF_f1_Micro.mean(),4))\n",
    "\n",
    "RF_f1_Macro = cross_val_score(RF,X,Y,cv=KF,scoring='f1_macro')\n",
    "list_f1_Macro.append(round(RF_f1_Macro.mean(),4))\n",
    "\n",
    "RF_auc = cross_val_score(RF,X,Y,cv=KF,scoring='roc_auc')\n",
    "list_AUC.append(round(RF_auc.mean(),4))"
   ]
  },
  {
   "cell_type": "markdown",
   "id": "5cffc84e",
   "metadata": {},
   "source": [
    "### 天真貝氏"
   ]
  },
  {
   "cell_type": "code",
   "execution_count": 16,
   "id": "5bcf9fa1",
   "metadata": {},
   "outputs": [],
   "source": [
    "NB=GaussianNB()\n",
    "KF = KFold(n_splits=10, shuffle=True) "
   ]
  },
  {
   "cell_type": "code",
   "execution_count": 17,
   "id": "6234b837",
   "metadata": {},
   "outputs": [],
   "source": [
    "NB_accuracy=cross_val_score(NB,X,Y,cv=KF,scoring='accuracy')\n",
    "list_accuracy.append(round(NB_accuracy.mean(),4))\n",
    "\n",
    "NB_precision = cross_val_score(NB,X,Y,cv=KF,scoring='precision')\n",
    "list_precision.append(round(NB_precision.mean(),4))\n",
    "\n",
    "NB_recall = cross_val_score(NB,X,Y,cv=KF,scoring='recall')\n",
    "list_recall.append(round(NB_recall.mean(),4))\n",
    "\n",
    "NB_f1_Weight = cross_val_score(NB,X,Y,cv=KF,scoring='f1_weighted')\n",
    "list_f1_Weight.append(round(NB_f1_Weight.mean(),4))\n",
    "\n",
    "NB_f1_Micro = cross_val_score(NB,X,Y,cv=KF,scoring='f1_micro')\n",
    "list_f1_Micro.append(round(NB_f1_Micro.mean(),4))\n",
    "\n",
    "NB_f1_Macro = cross_val_score(NB,X,Y,cv=KF,scoring='f1_macro')\n",
    "list_f1_Macro.append(round(NB_f1_Macro.mean(),4))\n",
    "\n",
    "NB_auc = cross_val_score(NB,X,Y,cv=KF,scoring='roc_auc')\n",
    "list_AUC.append(round(NB_auc.mean(),4))"
   ]
  },
  {
   "cell_type": "markdown",
   "id": "51bcc305",
   "metadata": {},
   "source": [
    "### 線性邏輯回歸"
   ]
  },
  {
   "cell_type": "code",
   "execution_count": 18,
   "id": "0dc67b13",
   "metadata": {},
   "outputs": [],
   "source": [
    "LR=linear_model.LogisticRegression()\n",
    "KF = KFold(n_splits=10, shuffle=True) "
   ]
  },
  {
   "cell_type": "code",
   "execution_count": 19,
   "id": "9d95c22b",
   "metadata": {},
   "outputs": [],
   "source": [
    "LR_accuracy=cross_val_score(LR,X,Y,cv=KF,scoring='accuracy')\n",
    "list_accuracy.append(round(LR_accuracy.mean(),4))\n",
    "\n",
    "LR_precision = cross_val_score(LR,X,Y,cv=KF,scoring='precision')\n",
    "list_precision.append(round(LR_precision.mean(),4))\n",
    "\n",
    "LR_recall = cross_val_score(LR,X,Y,cv=KF,scoring='recall')\n",
    "list_recall.append(round(LR_recall.mean(),4))\n",
    "\n",
    "LR_f1_Weight = cross_val_score(LR,X,Y,cv=KF,scoring='f1_weighted')\n",
    "list_f1_Weight.append(round(LR_f1_Weight.mean(),4))\n",
    "\n",
    "LR_f1_Micro = cross_val_score(LR,X,Y,cv=KF,scoring='f1_micro')\n",
    "list_f1_Micro.append(round(LR_f1_Micro.mean(),4))\n",
    "\n",
    "LR_f1_Macro = cross_val_score(LR,X,Y,cv=KF,scoring='f1_macro')\n",
    "list_f1_Macro.append(round(LR_f1_Macro.mean(),4))\n",
    "\n",
    "LR_auc = cross_val_score(LR,X,Y,cv=KF,scoring='roc_auc')\n",
    "list_AUC.append(round(LR_auc.mean(),4))"
   ]
  },
  {
   "cell_type": "markdown",
   "id": "2e5b1a61",
   "metadata": {},
   "source": [
    "### KNN"
   ]
  },
  {
   "cell_type": "code",
   "execution_count": 20,
   "id": "18aa9806",
   "metadata": {},
   "outputs": [],
   "source": [
    "KNN = KNeighborsClassifier()\n",
    "KF = KFold(n_splits=10, shuffle=True)"
   ]
  },
  {
   "cell_type": "code",
   "execution_count": 21,
   "id": "50ef9811",
   "metadata": {},
   "outputs": [],
   "source": [
    "KNN_accuracy=cross_val_score(KNN,X,Y,cv=KF,scoring='accuracy')\n",
    "list_accuracy.append(round(KNN_accuracy.mean(),4))\n",
    "\n",
    "KNN_precision = cross_val_score(KNN,X,Y,cv=KF,scoring='precision')\n",
    "list_precision.append(round(KNN_precision.mean(),4))\n",
    "\n",
    "KNN_recall = cross_val_score(KNN,X,Y,cv=KF,scoring='recall')\n",
    "list_recall.append(round(KNN_recall.mean(),4))\n",
    "\n",
    "KNN_f1_Weight = cross_val_score(KNN,X,Y,cv=KF,scoring='f1_weighted')\n",
    "list_f1_Weight.append(round(KNN_f1_Weight.mean(),4))\n",
    "\n",
    "KNN_f1_Micro = cross_val_score(KNN,X,Y,cv=KF,scoring='f1_micro')\n",
    "list_f1_Micro.append(round(KNN_f1_Micro.mean(),4))\n",
    "\n",
    "KNN_f1_Macro = cross_val_score(KNN,X,Y,cv=KF,scoring='f1_macro')\n",
    "list_f1_Macro.append(round(KNN_f1_Macro.mean(),4))\n",
    "\n",
    "KNN_auc = cross_val_score(KNN,X,Y,cv=KF,scoring='roc_auc')\n",
    "list_AUC.append(round(KNN_auc.mean(),4))"
   ]
  },
  {
   "cell_type": "markdown",
   "id": "f9c72a3c",
   "metadata": {},
   "source": [
    "### SVM"
   ]
  },
  {
   "cell_type": "code",
   "execution_count": 22,
   "id": "bfb47d3d",
   "metadata": {},
   "outputs": [],
   "source": [
    "SVM=svm.SVC()\n",
    "KF = KFold(n_splits=10, shuffle=True) "
   ]
  },
  {
   "cell_type": "code",
   "execution_count": 23,
   "id": "78e4b204",
   "metadata": {},
   "outputs": [],
   "source": [
    "SVM_accuracy=cross_val_score(SVM,X,Y,cv=KF,scoring='accuracy')\n",
    "list_accuracy.append(round(SVM_accuracy.mean(),4))\n",
    "\n",
    "SVM_precision = cross_val_score(SVM,X,Y,cv=KF,scoring='precision')\n",
    "list_precision.append(round(SVM_precision.mean(),4))\n",
    "\n",
    "SVM_recall = cross_val_score(SVM,X,Y,cv=KF,scoring='recall')\n",
    "list_recall.append(round(SVM_recall.mean(),4))\n",
    "\n",
    "SVM_f1_Weight = cross_val_score(SVM,X,Y,cv=KF,scoring='f1_weighted')\n",
    "list_f1_Weight.append(round(SVM_f1_Weight.mean(),4))\n",
    "\n",
    "SVM_f1_Micro = cross_val_score(SVM,X,Y,cv=KF,scoring='f1_micro')\n",
    "list_f1_Micro.append(round(SVM_f1_Micro.mean(),4))\n",
    "\n",
    "SVM_f1_Macro = cross_val_score(SVM,X,Y,cv=KF,scoring='f1_macro')\n",
    "list_f1_Macro.append(round(SVM_f1_Macro.mean(),4))\n",
    "\n",
    "SVM_auc = cross_val_score(SVM,X,Y,cv=KF,scoring='roc_auc')\n",
    "list_AUC.append(round(SVM_auc.mean(),4))"
   ]
  },
  {
   "cell_type": "code",
   "execution_count": 24,
   "id": "41521b34",
   "metadata": {},
   "outputs": [],
   "source": [
    "result_title=['Decision Tree','Random Forest','Gaussian Naive Bayes','Logistic regression','KNN','SVM']\n",
    "result_dict={'特徵組合四_10_POS_卡方':result_title,'Accuracy':list_accuracy,'Precision':list_precision,'Recall':list_recall,'F1_Weight':list_f1_Weight,'F1_Micro':list_f1_Micro,'F1_Macro':list_f1_Macro,'AUC':list_AUC}"
   ]
  },
  {
   "cell_type": "code",
   "execution_count": 25,
   "id": "b136e3d9",
   "metadata": {},
   "outputs": [],
   "source": [
    "df = pd.DataFrame(result_dict).T"
   ]
  },
  {
   "cell_type": "code",
   "execution_count": 26,
   "id": "a6c73b55",
   "metadata": {},
   "outputs": [],
   "source": [
    "df.to_csv (r\"..\\..\\結果\\Word_Array+Feature_Crosses_4\\特徵組合四_10_POS_卡方.csv\", index = True, header=False,encoding='utf_8_sig')"
   ]
  }
 ],
 "metadata": {
  "kernelspec": {
   "display_name": "Python 3 (ipykernel)",
   "language": "python",
   "name": "python3"
  },
  "language_info": {
   "codemirror_mode": {
    "name": "ipython",
    "version": 3
   },
   "file_extension": ".py",
   "mimetype": "text/x-python",
   "name": "python",
   "nbconvert_exporter": "python",
   "pygments_lexer": "ipython3",
   "version": "3.7.13"
  }
 },
 "nbformat": 4,
 "nbformat_minor": 5
}

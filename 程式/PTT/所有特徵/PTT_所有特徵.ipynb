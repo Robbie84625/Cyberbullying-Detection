{
 "cells": [
  {
   "cell_type": "markdown",
   "id": "dabb98e4",
   "metadata": {},
   "source": [
    "### 匯入套件"
   ]
  },
  {
   "cell_type": "code",
   "execution_count": 42,
   "id": "298c6d91",
   "metadata": {},
   "outputs": [],
   "source": [
    "import pandas as pd\n",
    "import warnings"
   ]
  },
  {
   "cell_type": "code",
   "execution_count": 43,
   "id": "86417360",
   "metadata": {},
   "outputs": [],
   "source": [
    "from sklearn.tree import DecisionTreeClassifier    #決策樹\n",
    "from sklearn.naive_bayes import GaussianNB         #高斯天真貝氏\n",
    "from sklearn.naive_bayes import MultinomialNB      #多項式天真貝氏\n",
    "from sklearn.linear_model import Perceptron        #感知器\n",
    "from sklearn.neighbors import KNeighborsClassifier #KNN\n",
    "from sklearn import linear_model                   #邏輯回歸\n",
    "from sklearn import svm                            #SVM"
   ]
  },
  {
   "cell_type": "code",
   "execution_count": 44,
   "id": "e50cee1e",
   "metadata": {},
   "outputs": [],
   "source": [
    "from sklearn.model_selection import KFold\n",
    "from sklearn.model_selection import cross_validate\n",
    "from sklearn.metrics import accuracy_score, precision_score, recall_score, f1_score, roc_auc_score"
   ]
  },
  {
   "cell_type": "code",
   "execution_count": 45,
   "id": "62cfe2f1",
   "metadata": {},
   "outputs": [],
   "source": [
    "warnings.filterwarnings('ignore')"
   ]
  },
  {
   "cell_type": "markdown",
   "id": "4e9747d5",
   "metadata": {},
   "source": [
    "### 導入文本資料"
   ]
  },
  {
   "cell_type": "code",
   "execution_count": 46,
   "id": "1ea49e1a",
   "metadata": {},
   "outputs": [],
   "source": [
    "Word_array = pd.read_csv(r\"..\\..\\..\\Feature_Array\\PTT\\Python\\Main_Features\\TF-IDF_500.csv\", header=0,index_col=None)"
   ]
  },
  {
   "cell_type": "markdown",
   "id": "3465df7b",
   "metadata": {},
   "source": [
    "### 導入統計特徵資料(第一、第二、第三人稱代詞、留言長度)"
   ]
  },
  {
   "cell_type": "code",
   "execution_count": 47,
   "id": "967b511c",
   "metadata": {},
   "outputs": [],
   "source": [
    "Statistical_Features=pd.read_csv(r\"..\\..\\..\\Feature_Array\\PTT\\Python\\Extra_Features\\Statistical\\Statistical_Features.csv\", header=0, index_col=None)"
   ]
  },
  {
   "cell_type": "markdown",
   "id": "af821aba",
   "metadata": {},
   "source": [
    "### 導入情感特徵資料(正面情感字數、負面情感字數、情感分數、表情符號數、表情符號情感分數)"
   ]
  },
  {
   "cell_type": "code",
   "execution_count": 48,
   "id": "69e23e0d",
   "metadata": {},
   "outputs": [],
   "source": [
    "Sentiment=pd.read_csv(r\"..\\..\\..\\Feature_Array\\PTT\\Python\\Extra_Features\\Sentiment\\All_Sentiment_Sentiwordnet.csv\", header=0, index_col=None)"
   ]
  },
  {
   "cell_type": "markdown",
   "id": "11322d85",
   "metadata": {},
   "source": [
    "### 導入卡方霸凌詞資料"
   ]
  },
  {
   "cell_type": "code",
   "execution_count": 49,
   "id": "e9f907a0",
   "metadata": {},
   "outputs": [],
   "source": [
    "BullyWord=pd.read_csv(r\"..\\..\\..\\Feature_Array\\PTT\\Python\\Extra_Features\\Bully_Word\\Chisquare_Bully_data.csv\", header=0, index_col=None)"
   ]
  },
  {
   "cell_type": "code",
   "execution_count": 50,
   "id": "141e6a8e",
   "metadata": {},
   "outputs": [],
   "source": [
    "X = pd.concat([Word_array.iloc[:, :-1],Statistical_Features.iloc[:, 1:],Sentiment.iloc[:, 1:],BullyWord.iloc[:, 1:]], axis=1) # Features\n",
    "Y = Word_array['answer'] # Target variable"
   ]
  },
  {
   "cell_type": "markdown",
   "id": "2a2a756b",
   "metadata": {},
   "source": [
    "### 宣告list 儲存評估指標結果"
   ]
  },
  {
   "cell_type": "code",
   "execution_count": 10,
   "id": "9fef78c2",
   "metadata": {},
   "outputs": [],
   "source": [
    "list_accuracy=[]\n",
    "list_precision=[]\n",
    "list_recall=[]\n",
    "list_f1_Weight=[]\n",
    "list_f1_Micro=[]\n",
    "list_f1_Macro=[]\n",
    "list_AUC=[]"
   ]
  },
  {
   "cell_type": "markdown",
   "id": "e7f98dab",
   "metadata": {},
   "source": [
    "### 輸入KFold參數"
   ]
  },
  {
   "cell_type": "code",
   "execution_count": 11,
   "id": "87176346",
   "metadata": {},
   "outputs": [],
   "source": [
    "KF = KFold(n_splits=10, shuffle=True,random_state=1) "
   ]
  },
  {
   "cell_type": "markdown",
   "id": "47cfbf64",
   "metadata": {},
   "source": [
    "### 建立機器學習函式"
   ]
  },
  {
   "cell_type": "code",
   "execution_count": 12,
   "id": "712e135f",
   "metadata": {},
   "outputs": [],
   "source": [
    "def ML(model):\n",
    "    score = ['accuracy', 'precision', 'recall', 'f1_weighted','f1_micro','f1_macro', 'roc_auc']\n",
    "    result =  cross_validate(model,X,Y,cv=KF,scoring=score)\n",
    "    return result"
   ]
  },
  {
   "cell_type": "markdown",
   "id": "fa87fdf8",
   "metadata": {},
   "source": [
    "### 決策樹"
   ]
  },
  {
   "cell_type": "code",
   "execution_count": 13,
   "id": "89796235",
   "metadata": {},
   "outputs": [],
   "source": [
    "DT = DecisionTreeClassifier()\n",
    "DT_Score=ML(DT)"
   ]
  },
  {
   "cell_type": "code",
   "execution_count": 14,
   "id": "0e3c8377",
   "metadata": {},
   "outputs": [],
   "source": [
    "list_accuracy.append(round(DT_Score['test_accuracy'].mean(),4))\n",
    "\n",
    "list_precision.append(round(DT_Score['test_precision'].mean(),4))\n",
    "\n",
    "list_recall.append(round(DT_Score['test_recall'].mean(),4))\n",
    "\n",
    "list_f1_Weight.append(round(DT_Score['test_f1_weighted'].mean(),4))\n",
    "\n",
    "list_f1_Micro.append(round(DT_Score['test_f1_micro'].mean(),4))\n",
    "\n",
    "list_f1_Macro.append(round(DT_Score['test_f1_macro'].mean(),4))\n",
    "\n",
    "list_AUC.append(round(DT_Score['test_roc_auc'].mean(),4))"
   ]
  },
  {
   "cell_type": "markdown",
   "id": "db32fa28",
   "metadata": {},
   "source": [
    "### 高斯天真貝氏"
   ]
  },
  {
   "cell_type": "code",
   "execution_count": 15,
   "id": "873569ea",
   "metadata": {},
   "outputs": [],
   "source": [
    "GNB=GaussianNB()\n",
    "GNB_Score=ML(GNB)"
   ]
  },
  {
   "cell_type": "code",
   "execution_count": 16,
   "id": "5c79ae7e",
   "metadata": {},
   "outputs": [],
   "source": [
    "list_accuracy.append(round(GNB_Score['test_accuracy'].mean(),4))\n",
    "\n",
    "list_precision.append(round(GNB_Score['test_precision'].mean(),4))\n",
    "\n",
    "list_recall.append(round(GNB_Score['test_recall'].mean(),4))\n",
    "\n",
    "list_f1_Weight.append(round(GNB_Score['test_f1_weighted'].mean(),4))\n",
    "\n",
    "list_f1_Micro.append(round(GNB_Score['test_f1_micro'].mean(),4))\n",
    "\n",
    "list_f1_Macro.append(round(GNB_Score['test_f1_macro'].mean(),4))\n",
    "\n",
    "list_AUC.append(round(GNB_Score['test_roc_auc'].mean(),4))"
   ]
  },
  {
   "cell_type": "markdown",
   "id": "5cffc84e",
   "metadata": {},
   "source": [
    "### 多項式天真貝氏"
   ]
  },
  {
   "cell_type": "code",
   "execution_count": 17,
   "id": "5bcf9fa1",
   "metadata": {},
   "outputs": [],
   "source": [
    "MNB= MultinomialNB()\n",
    "MNB_Score=ML(MNB)"
   ]
  },
  {
   "cell_type": "code",
   "execution_count": 18,
   "id": "6234b837",
   "metadata": {},
   "outputs": [],
   "source": [
    "list_accuracy.append(round(MNB_Score['test_accuracy'].mean(),4))\n",
    "\n",
    "list_precision.append(round(MNB_Score['test_precision'].mean(),4))\n",
    "\n",
    "list_recall.append(round(MNB_Score['test_recall'].mean(),4))\n",
    "\n",
    "list_f1_Weight.append(round(MNB_Score['test_f1_weighted'].mean(),4))\n",
    "\n",
    "list_f1_Micro.append(round(MNB_Score['test_f1_micro'].mean(),4))\n",
    "\n",
    "list_f1_Macro.append(round(MNB_Score['test_f1_macro'].mean(),4))\n",
    "\n",
    "list_AUC.append(round(MNB_Score['test_roc_auc'].mean(),4))"
   ]
  },
  {
   "cell_type": "markdown",
   "id": "1decc9bc",
   "metadata": {},
   "source": [
    "### Perceptron"
   ]
  },
  {
   "cell_type": "code",
   "execution_count": 19,
   "id": "58163c4c",
   "metadata": {},
   "outputs": [],
   "source": [
    "PLA=Perceptron(penalty='l2')\n",
    "PLA_Score=ML(PLA)"
   ]
  },
  {
   "cell_type": "code",
   "execution_count": 20,
   "id": "d49c20dd",
   "metadata": {},
   "outputs": [],
   "source": [
    "list_accuracy.append(round(PLA_Score['test_accuracy'].mean(),4))\n",
    "\n",
    "list_precision.append(round(PLA_Score['test_precision'].mean(),4))\n",
    "\n",
    "list_recall.append(round(PLA_Score['test_recall'].mean(),4))\n",
    "\n",
    "list_f1_Weight.append(round(PLA_Score['test_f1_weighted'].mean(),4))\n",
    "\n",
    "list_f1_Micro.append(round(PLA_Score['test_f1_micro'].mean(),4))\n",
    "\n",
    "list_f1_Macro.append(round(PLA_Score['test_f1_macro'].mean(),4))\n",
    "\n",
    "list_AUC.append(round(PLA_Score['test_roc_auc'].mean(),4))"
   ]
  },
  {
   "cell_type": "markdown",
   "id": "51bcc305",
   "metadata": {},
   "source": [
    "### 線性邏輯回歸"
   ]
  },
  {
   "cell_type": "code",
   "execution_count": 21,
   "id": "0dc67b13",
   "metadata": {},
   "outputs": [],
   "source": [
    "LR=linear_model.LogisticRegression()\n",
    "LR_Score=ML(LR)"
   ]
  },
  {
   "cell_type": "code",
   "execution_count": 22,
   "id": "9d95c22b",
   "metadata": {},
   "outputs": [],
   "source": [
    "list_accuracy.append(round(LR_Score['test_accuracy'].mean(),4))\n",
    "\n",
    "list_precision.append(round(LR_Score['test_precision'].mean(),4))\n",
    "\n",
    "list_recall.append(round(LR_Score['test_recall'].mean(),4))\n",
    "\n",
    "list_f1_Weight.append(round(LR_Score['test_f1_weighted'].mean(),4))\n",
    "\n",
    "list_f1_Micro.append(round(LR_Score['test_f1_micro'].mean(),4))\n",
    "\n",
    "list_f1_Macro.append(round(LR_Score['test_f1_macro'].mean(),4))\n",
    "\n",
    "list_AUC.append(round(LR_Score['test_roc_auc'].mean(),4))"
   ]
  },
  {
   "cell_type": "markdown",
   "id": "2e5b1a61",
   "metadata": {},
   "source": [
    "### KNN"
   ]
  },
  {
   "cell_type": "code",
   "execution_count": 23,
   "id": "18aa9806",
   "metadata": {},
   "outputs": [],
   "source": [
    "KNN = KNeighborsClassifier()\n",
    "KNN_Score=ML(KNN)"
   ]
  },
  {
   "cell_type": "code",
   "execution_count": 24,
   "id": "50ef9811",
   "metadata": {},
   "outputs": [],
   "source": [
    "list_accuracy.append(round(KNN_Score['test_accuracy'].mean(),4))\n",
    "\n",
    "list_precision.append(round(KNN_Score['test_precision'].mean(),4))\n",
    "\n",
    "list_recall.append(round(KNN_Score['test_recall'].mean(),4))\n",
    "\n",
    "list_f1_Weight.append(round(KNN_Score['test_f1_weighted'].mean(),4))\n",
    "\n",
    "list_f1_Micro.append(round(KNN_Score['test_f1_micro'].mean(),4))\n",
    "\n",
    "list_f1_Macro.append(round(KNN_Score['test_f1_macro'].mean(),4))\n",
    "\n",
    "list_AUC.append(round(KNN_Score['test_roc_auc'].mean(),4))"
   ]
  },
  {
   "cell_type": "markdown",
   "id": "f9c72a3c",
   "metadata": {},
   "source": [
    "### SVM"
   ]
  },
  {
   "cell_type": "code",
   "execution_count": 25,
   "id": "bfb47d3d",
   "metadata": {},
   "outputs": [],
   "source": [
    "SVM=svm.SVC(probability=True, kernel='linear')\n",
    "SVM_Score=ML(SVM)"
   ]
  },
  {
   "cell_type": "code",
   "execution_count": 26,
   "id": "78e4b204",
   "metadata": {},
   "outputs": [],
   "source": [
    "list_accuracy.append(round(SVM_Score['test_accuracy'].mean(),4))\n",
    "\n",
    "list_precision.append(round(SVM_Score['test_precision'].mean(),4))\n",
    "\n",
    "list_recall.append(round(SVM_Score['test_recall'].mean(),4))\n",
    "\n",
    "list_f1_Weight.append(round(SVM_Score['test_f1_weighted'].mean(),4))\n",
    "\n",
    "list_f1_Micro.append(round(SVM_Score['test_f1_micro'].mean(),4))\n",
    "\n",
    "list_f1_Macro.append(round(SVM_Score['test_f1_macro'].mean(),4))\n",
    "\n",
    "list_AUC.append(round(SVM_Score['test_roc_auc'].mean(),4))"
   ]
  },
  {
   "cell_type": "code",
   "execution_count": 27,
   "id": "41521b34",
   "metadata": {},
   "outputs": [],
   "source": [
    "result_title=['Decision Tree','Gaussian Naive Bayes','Multinomial Naive Bayes','PLA','Logistic Regression','KNN','SVM']\n",
    "result_dict={'所有特徵':result_title,'Accuracy':list_accuracy,'Precision':list_precision,'Recall':list_recall,'F1_Weight':list_f1_Weight,'F1_Micro':list_f1_Micro,'F1_Macro':list_f1_Macro,'AUC':list_AUC}"
   ]
  },
  {
   "cell_type": "code",
   "execution_count": 28,
   "id": "b136e3d9",
   "metadata": {},
   "outputs": [],
   "source": [
    "df = pd.DataFrame(result_dict).T"
   ]
  }
 ],
 "metadata": {
  "kernelspec": {
   "display_name": "Python 3 (ipykernel)",
   "language": "python",
   "name": "python3"
  },
  "language_info": {
   "codemirror_mode": {
    "name": "ipython",
    "version": 3
   },
   "file_extension": ".py",
   "mimetype": "text/x-python",
   "name": "python",
   "nbconvert_exporter": "python",
   "pygments_lexer": "ipython3",
   "version": "3.7.13"
  }
 },
 "nbformat": 4,
 "nbformat_minor": 5
}

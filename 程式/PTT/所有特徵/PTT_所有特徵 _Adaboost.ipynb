{
 "cells": [
  {
   "cell_type": "markdown",
   "id": "dabb98e4",
   "metadata": {},
   "source": [
    "### 匯入套件"
   ]
  },
  {
   "cell_type": "code",
   "execution_count": 1,
   "id": "298c6d91",
   "metadata": {},
   "outputs": [],
   "source": [
    "import pandas as pd\n",
    "import warnings"
   ]
  },
  {
   "cell_type": "code",
   "execution_count": 2,
   "id": "0344dcc4",
   "metadata": {},
   "outputs": [],
   "source": [
    "from sklearn.ensemble import AdaBoostClassifier"
   ]
  },
  {
   "cell_type": "code",
   "execution_count": 3,
   "id": "86417360",
   "metadata": {},
   "outputs": [],
   "source": [
    "from sklearn.tree import DecisionTreeClassifier    #決策樹\n",
    "from sklearn.naive_bayes import GaussianNB         #高斯天真貝氏\n",
    "from sklearn.naive_bayes import MultinomialNB      #多項式天真貝氏\n",
    "from sklearn.linear_model import Perceptron        #感知器\n",
    "from sklearn.neighbors import KNeighborsClassifier #KNN\n",
    "from sklearn import linear_model                   #邏輯回歸\n",
    "from sklearn import svm                            #SVM"
   ]
  },
  {
   "cell_type": "code",
   "execution_count": 4,
   "id": "e50cee1e",
   "metadata": {},
   "outputs": [],
   "source": [
    "from sklearn.model_selection import KFold\n",
    "from sklearn.model_selection import cross_validate\n",
    "from sklearn.metrics import accuracy_score, precision_score, recall_score, f1_score, roc_auc_score"
   ]
  },
  {
   "cell_type": "code",
   "execution_count": 5,
   "id": "62cfe2f1",
   "metadata": {},
   "outputs": [],
   "source": [
    "warnings.filterwarnings('ignore')"
   ]
  },
  {
   "cell_type": "markdown",
   "id": "4e9747d5",
   "metadata": {},
   "source": [
    "### 導入文本資料"
   ]
  },
  {
   "cell_type": "code",
   "execution_count": 6,
   "id": "1ea49e1a",
   "metadata": {},
   "outputs": [],
   "source": [
    "Word_array = pd.read_csv(r\"..\\..\\..\\Feature_Array\\PTT\\Python\\Main_Features\\TF-IDF_500.csv\", header=0,index_col=None)"
   ]
  },
  {
   "cell_type": "markdown",
   "id": "3465df7b",
   "metadata": {},
   "source": [
    "### 導入統計特徵資料(第一、第二、第三人稱代詞、留言長度)"
   ]
  },
  {
   "cell_type": "code",
   "execution_count": 7,
   "id": "967b511c",
   "metadata": {},
   "outputs": [],
   "source": [
    "Statistical_Features=pd.read_csv(r\"..\\..\\..\\Feature_Array\\PTT\\Python\\Extra_Features\\Statistical\\Statistical_Features.csv\", header=0, index_col=None)"
   ]
  },
  {
   "cell_type": "markdown",
   "id": "af821aba",
   "metadata": {},
   "source": [
    "### 導入情感特徵資料(正面情感字數、負面情感字數、情感分數、表情符號數、表情符號情感分數)"
   ]
  },
  {
   "cell_type": "code",
   "execution_count": 8,
   "id": "69e23e0d",
   "metadata": {},
   "outputs": [],
   "source": [
    "Sentiment=pd.read_csv(r\"..\\..\\..\\Feature_Array\\PTT\\Python\\Extra_Features\\Sentiment\\All_Sentiment_Sentiwordnet.csv\", header=0, index_col=None)"
   ]
  },
  {
   "cell_type": "markdown",
   "id": "1634e06e",
   "metadata": {},
   "source": [
    "### 導入卡方霸凌詞資料"
   ]
  },
  {
   "cell_type": "code",
   "execution_count": 9,
   "id": "6f91afc7",
   "metadata": {},
   "outputs": [],
   "source": [
    "BullyWord=pd.read_csv(r\"..\\..\\..\\Feature_Array\\PTT\\Python\\Extra_Features\\Bully_Word\\Chisquare_Bully_data.csv\", header=0, index_col=None)"
   ]
  },
  {
   "cell_type": "code",
   "execution_count": 10,
   "id": "141e6a8e",
   "metadata": {},
   "outputs": [],
   "source": [
    "X = pd.concat([Word_array.iloc[:, :-1],Statistical_Features.iloc[:, 1:],Sentiment.iloc[:, 1:],BullyWord.iloc[:, 1:]], axis=1) # Features\n",
    "Y = Word_array['answer'] # Target variable"
   ]
  },
  {
   "cell_type": "markdown",
   "id": "2a2a756b",
   "metadata": {},
   "source": [
    "### 宣告list 儲存評估指標結果"
   ]
  },
  {
   "cell_type": "code",
   "execution_count": 11,
   "id": "9fef78c2",
   "metadata": {},
   "outputs": [],
   "source": [
    "list_accuracy=[]\n",
    "list_precision=[]\n",
    "list_recall=[]\n",
    "list_f1_Weight=[]\n",
    "list_f1_Micro=[]\n",
    "list_f1_Macro=[]\n",
    "list_AUC=[]"
   ]
  },
  {
   "cell_type": "markdown",
   "id": "575c0725",
   "metadata": {},
   "source": [
    "### 輸入KFold參數"
   ]
  },
  {
   "cell_type": "code",
   "execution_count": 12,
   "id": "06a9cc64",
   "metadata": {},
   "outputs": [],
   "source": [
    "KF = KFold(n_splits=10, shuffle=True,random_state=1) "
   ]
  },
  {
   "cell_type": "markdown",
   "id": "be19c27d",
   "metadata": {},
   "source": [
    "### 建立機器學習函式"
   ]
  },
  {
   "cell_type": "code",
   "execution_count": 13,
   "id": "9df240dd",
   "metadata": {},
   "outputs": [],
   "source": [
    "def ML(model):\n",
    "    score = ['accuracy', 'precision', 'recall', 'f1_weighted','f1_micro','f1_macro', 'roc_auc']\n",
    "    result =  cross_validate(model,X,Y,cv=KF,scoring=score)\n",
    "    return result"
   ]
  },
  {
   "cell_type": "markdown",
   "id": "fa87fdf8",
   "metadata": {},
   "source": [
    "### 決策樹"
   ]
  },
  {
   "cell_type": "code",
   "execution_count": 14,
   "id": "89796235",
   "metadata": {},
   "outputs": [],
   "source": [
    "DT = DecisionTreeClassifier()\n",
    "AdaBoost_DT = AdaBoostClassifier(base_estimator=DT,n_estimators=50)\n",
    "AdaBoost_DT_Score=ML(AdaBoost_DT)"
   ]
  },
  {
   "cell_type": "code",
   "execution_count": 15,
   "id": "0e3c8377",
   "metadata": {},
   "outputs": [],
   "source": [
    "list_accuracy.append(round(AdaBoost_DT_Score['test_accuracy'].mean(),4))\n",
    "\n",
    "list_precision.append(round(AdaBoost_DT_Score['test_precision'].mean(),4))\n",
    "\n",
    "list_recall.append(round(AdaBoost_DT_Score['test_recall'].mean(),4))\n",
    "\n",
    "list_f1_Weight.append(round(AdaBoost_DT_Score['test_f1_weighted'].mean(),4))\n",
    "\n",
    "list_f1_Micro.append(round(AdaBoost_DT_Score['test_f1_micro'].mean(),4))\n",
    "\n",
    "list_f1_Macro.append(round(AdaBoost_DT_Score['test_f1_macro'].mean(),4))\n",
    "\n",
    "list_AUC.append(round(AdaBoost_DT_Score['test_roc_auc'].mean(),4))"
   ]
  },
  {
   "cell_type": "markdown",
   "id": "4cef5e06",
   "metadata": {},
   "source": [
    "### 高斯天真貝氏"
   ]
  },
  {
   "cell_type": "code",
   "execution_count": 16,
   "id": "b0ecbcde",
   "metadata": {},
   "outputs": [],
   "source": [
    "GNB=GaussianNB()\n",
    "AdaBoost_GNB = AdaBoostClassifier(base_estimator=GNB,n_estimators=50)\n",
    "AdaBoost_GNB_Score=ML(AdaBoost_GNB)"
   ]
  },
  {
   "cell_type": "code",
   "execution_count": 17,
   "id": "a07cb825",
   "metadata": {},
   "outputs": [],
   "source": [
    "list_accuracy.append(round(AdaBoost_GNB_Score['test_accuracy'].mean(),4))\n",
    "\n",
    "list_precision.append(round(AdaBoost_GNB_Score['test_precision'].mean(),4))\n",
    "\n",
    "list_recall.append(round(AdaBoost_GNB_Score['test_recall'].mean(),4))\n",
    "\n",
    "list_f1_Weight.append(round(AdaBoost_GNB_Score['test_f1_weighted'].mean(),4))\n",
    "\n",
    "list_f1_Micro.append(round(AdaBoost_GNB_Score['test_f1_micro'].mean(),4))\n",
    "\n",
    "list_f1_Macro.append(round(AdaBoost_GNB_Score['test_f1_macro'].mean(),4))\n",
    "\n",
    "list_AUC.append(round(AdaBoost_GNB_Score['test_roc_auc'].mean(),4))"
   ]
  },
  {
   "cell_type": "markdown",
   "id": "a37d2dfd",
   "metadata": {},
   "source": [
    "### 多項式天真貝氏"
   ]
  },
  {
   "cell_type": "code",
   "execution_count": 18,
   "id": "7ccb97fb",
   "metadata": {},
   "outputs": [
    {
     "ename": "NameError",
     "evalue": "name 'BaggingClassifier' is not defined",
     "output_type": "error",
     "traceback": [
      "\u001b[1;31m---------------------------------------------------------------------------\u001b[0m",
      "\u001b[1;31mNameError\u001b[0m                                 Traceback (most recent call last)",
      "\u001b[1;32m~\\AppData\\Local\\Temp\\ipykernel_16748\\1603466887.py\u001b[0m in \u001b[0;36m<module>\u001b[1;34m\u001b[0m\n\u001b[0;32m      1\u001b[0m \u001b[0mMNB\u001b[0m\u001b[1;33m=\u001b[0m\u001b[0mMultinomialNB\u001b[0m\u001b[1;33m(\u001b[0m\u001b[1;33m)\u001b[0m\u001b[1;33m\u001b[0m\u001b[1;33m\u001b[0m\u001b[0m\n\u001b[1;32m----> 2\u001b[1;33m \u001b[0mBagging_MNB\u001b[0m \u001b[1;33m=\u001b[0m \u001b[0mBaggingClassifier\u001b[0m\u001b[1;33m(\u001b[0m\u001b[0mbase_estimator\u001b[0m\u001b[1;33m=\u001b[0m\u001b[0mMNB\u001b[0m\u001b[1;33m,\u001b[0m\u001b[0mn_estimators\u001b[0m\u001b[1;33m=\u001b[0m\u001b[1;36m50\u001b[0m\u001b[1;33m)\u001b[0m\u001b[1;33m\u001b[0m\u001b[1;33m\u001b[0m\u001b[0m\n\u001b[0m\u001b[0;32m      3\u001b[0m \u001b[0mBagging_MNB_Score\u001b[0m\u001b[1;33m=\u001b[0m\u001b[0mML\u001b[0m\u001b[1;33m(\u001b[0m\u001b[0mBagging_MNB\u001b[0m\u001b[1;33m)\u001b[0m\u001b[1;33m\u001b[0m\u001b[1;33m\u001b[0m\u001b[0m\n",
      "\u001b[1;31mNameError\u001b[0m: name 'BaggingClassifier' is not defined"
     ]
    }
   ],
   "source": [
    "MNB=MultinomialNB()\n",
    "Bagging_MNB = BaggingClassifier(base_estimator=MNB,n_estimators=50)\n",
    "Bagging_MNB_Score=ML(Bagging_MNB)"
   ]
  },
  {
   "cell_type": "code",
   "execution_count": null,
   "id": "762bc7e2",
   "metadata": {},
   "outputs": [],
   "source": [
    "list_accuracy.append(round(Bagging_MNB_Score['test_accuracy'].mean(),4))\n",
    "\n",
    "list_precision.append(round(Bagging_MNB_Score['test_precision'].mean(),4))\n",
    "\n",
    "list_recall.append(round(Bagging_MNB_Score['test_recall'].mean(),4))\n",
    "\n",
    "list_f1_Weight.append(round(Bagging_MNB_Score['test_f1_weighted'].mean(),4))\n",
    "\n",
    "list_f1_Micro.append(round(Bagging_MNB_Score['test_f1_micro'].mean(),4))\n",
    "\n",
    "list_f1_Macro.append(round(Bagging_MNB_Score['test_f1_macro'].mean(),4))\n",
    "\n",
    "list_AUC.append(round(Bagging_MNB_Score['test_roc_auc'].mean(),4))"
   ]
  },
  {
   "cell_type": "markdown",
   "id": "e8a34188",
   "metadata": {},
   "source": [
    "### Perceptron"
   ]
  },
  {
   "cell_type": "code",
   "execution_count": null,
   "id": "5e574021",
   "metadata": {},
   "outputs": [],
   "source": [
    "PLA=Perceptron(penalty='l2')\n",
    "AdaBoost_PLA = AdaBoostClassifier(base_estimator=PLA,n_estimators=50,algorithm='SAMME')\n",
    "AdaBoost_PLA_Score=ML(AdaBoost_PLA)"
   ]
  },
  {
   "cell_type": "code",
   "execution_count": null,
   "id": "bbb96a73",
   "metadata": {},
   "outputs": [],
   "source": [
    "list_accuracy.append(round(AdaBoost_PLA_Score['test_accuracy'].mean(),4))\n",
    "\n",
    "list_precision.append(round(AdaBoost_PLA_Score['test_precision'].mean(),4))\n",
    "\n",
    "list_recall.append(round(AdaBoost_PLA_Score['test_recall'].mean(),4))\n",
    "\n",
    "list_f1_Weight.append(round(AdaBoost_PLA_Score['test_f1_weighted'].mean(),4))\n",
    "\n",
    "list_f1_Micro.append(round(AdaBoost_PLA_Score['test_f1_micro'].mean(),4))\n",
    "\n",
    "list_f1_Macro.append(round(AdaBoost_PLA_Score['test_f1_macro'].mean(),4))\n",
    "\n",
    "list_AUC.append(round(AdaBoost_PLA_Score['test_roc_auc'].mean(),4))"
   ]
  },
  {
   "cell_type": "markdown",
   "id": "51bcc305",
   "metadata": {},
   "source": [
    "### 線性邏輯回歸"
   ]
  },
  {
   "cell_type": "code",
   "execution_count": null,
   "id": "0dc67b13",
   "metadata": {},
   "outputs": [],
   "source": [
    "LR=linear_model.LogisticRegression()\n",
    "AdaBoost_LR = AdaBoostClassifier(base_estimator=LR,n_estimators=50)\n",
    "AdaBoost_LR_Score=ML(AdaBoost_LR)"
   ]
  },
  {
   "cell_type": "code",
   "execution_count": null,
   "id": "9d95c22b",
   "metadata": {},
   "outputs": [],
   "source": [
    "list_accuracy.append(round(AdaBoost_LR_Score['test_accuracy'].mean(),4))\n",
    "\n",
    "list_precision.append(round(AdaBoost_LR_Score['test_precision'].mean(),4))\n",
    "\n",
    "list_recall.append(round(AdaBoost_LR_Score['test_recall'].mean(),4))\n",
    "\n",
    "list_f1_Weight.append(round(AdaBoost_LR_Score['test_f1_weighted'].mean(),4))\n",
    "\n",
    "list_f1_Micro.append(round(AdaBoost_LR_Score['test_f1_micro'].mean(),4))\n",
    "\n",
    "list_f1_Macro.append(round(AdaBoost_LR_Score['test_f1_macro'].mean(),4))\n",
    "\n",
    "list_AUC.append(round(AdaBoost_LR_Score['test_roc_auc'].mean(),4))"
   ]
  },
  {
   "cell_type": "markdown",
   "id": "2999719a",
   "metadata": {},
   "source": [
    "### SVM"
   ]
  },
  {
   "cell_type": "code",
   "execution_count": null,
   "id": "dbdbfd46",
   "metadata": {},
   "outputs": [],
   "source": [
    "SVM=svm.SVC(probability=True, kernel='linear')\n",
    "AdaBoost_SVM = AdaBoostClassifier(base_estimator=SVM,n_estimators=50)\n",
    "AdaBoost_SVM_Score=ML(AdaBoost_SVM )"
   ]
  },
  {
   "cell_type": "code",
   "execution_count": null,
   "id": "8ae9359e",
   "metadata": {},
   "outputs": [],
   "source": [
    "list_accuracy.append(round(AdaBoost_SVM_Score['test_accuracy'].mean(),4))\n",
    "\n",
    "list_precision.append(round(AdaBoost_SVM_Score['test_precision'].mean(),4))\n",
    "\n",
    "list_recall.append(round(AdaBoost_SVM_Score['test_recall'].mean(),4))\n",
    "\n",
    "list_f1_Weight.append(round(AdaBoost_SVM_Score['test_f1_weighted'].mean(),4))\n",
    "\n",
    "list_f1_Micro.append(round(AdaBoost_SVM_Score['test_f1_micro'].mean(),4))\n",
    "\n",
    "list_f1_Macro.append(round(AdaBoost_SVM_Score['test_f1_macro'].mean(),4))\n",
    "\n",
    "list_AUC.append(round(AdaBoost_SVM_Score['test_roc_auc'].mean(),4))"
   ]
  },
  {
   "cell_type": "code",
   "execution_count": null,
   "id": "39850d2e",
   "metadata": {},
   "outputs": [],
   "source": [
    "result_title=['AdaBoost Decision Tree','AdaBoost Gaussian Naive Bayes','AdaBoost Multinomial Naive Bayes','AdaBoost PLA','AdaBoost Logistic Regression','AdaBoost SVM']\n",
    "result_dict={'所有特徵':result_title,'Accuracy':list_accuracy,'Precision':list_precision,'Recall':list_recall,'F1_Weight':list_f1_Weight,'F1_Micro':list_f1_Micro,'F1_Macro':list_f1_Macro,'AUC':list_AUC}"
   ]
  },
  {
   "cell_type": "code",
   "execution_count": null,
   "id": "b136e3d9",
   "metadata": {},
   "outputs": [],
   "source": [
    "df = pd.DataFrame(result_dict).T"
   ]
  }
 ],
 "metadata": {
  "kernelspec": {
   "display_name": "Python 3 (ipykernel)",
   "language": "python",
   "name": "python3"
  },
  "language_info": {
   "codemirror_mode": {
    "name": "ipython",
    "version": 3
   },
   "file_extension": ".py",
   "mimetype": "text/x-python",
   "name": "python",
   "nbconvert_exporter": "python",
   "pygments_lexer": "ipython3",
   "version": "3.7.13"
  }
 },
 "nbformat": 4,
 "nbformat_minor": 5
}

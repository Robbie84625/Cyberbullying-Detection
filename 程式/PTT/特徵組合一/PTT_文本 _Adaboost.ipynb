{
 "cells": [
  {
   "cell_type": "markdown",
   "id": "dabb98e4",
   "metadata": {},
   "source": [
    "### 匯入套件"
   ]
  },
  {
   "cell_type": "code",
   "execution_count": 19,
   "id": "298c6d91",
   "metadata": {},
   "outputs": [],
   "source": [
    "import pandas as pd\n",
    "import warnings"
   ]
  },
  {
   "cell_type": "code",
   "execution_count": 20,
   "id": "0344dcc4",
   "metadata": {},
   "outputs": [],
   "source": [
    "from sklearn.ensemble import AdaBoostClassifier"
   ]
  },
  {
   "cell_type": "code",
   "execution_count": 21,
   "id": "86417360",
   "metadata": {},
   "outputs": [],
   "source": [
    "from sklearn.tree import DecisionTreeClassifier    #決策樹\n",
    "from sklearn.naive_bayes import GaussianNB         #高斯天真貝氏\n",
    "from sklearn.naive_bayes import MultinomialNB      #多項式天真貝氏\n",
    "from sklearn.linear_model import Perceptron        #感知器\n",
    "from sklearn.neighbors import KNeighborsClassifier #KNN\n",
    "from sklearn import linear_model                   #邏輯回歸\n",
    "from sklearn import svm                            #SVM"
   ]
  },
  {
   "cell_type": "code",
   "execution_count": 22,
   "id": "e50cee1e",
   "metadata": {},
   "outputs": [],
   "source": [
    "from sklearn.model_selection import KFold\n",
    "from sklearn.model_selection import cross_validate\n",
    "from sklearn.metrics import accuracy_score, precision_score, recall_score, f1_score, roc_auc_score"
   ]
  },
  {
   "cell_type": "code",
   "execution_count": 23,
   "id": "62cfe2f1",
   "metadata": {},
   "outputs": [],
   "source": [
    "warnings.filterwarnings('ignore')"
   ]
  },
  {
   "cell_type": "markdown",
   "id": "4e9747d5",
   "metadata": {},
   "source": [
    "### 導入Bag of Words資料"
   ]
  },
  {
   "cell_type": "code",
   "execution_count": 24,
   "id": "1ea49e1a",
   "metadata": {},
   "outputs": [],
   "source": [
    "Word_array = pd.read_csv(r\"..\\..\\..\\Feature_Array\\PTT\\Python\\Main_Features\\TF-IDF_500.csv\", header=0,index_col=None)\n",
    "\n",
    "X = Word_array.iloc[:, :-1] # Features\n",
    "Y = Word_array['answer'] # Target variable"
   ]
  },
  {
   "cell_type": "markdown",
   "id": "2a2a756b",
   "metadata": {},
   "source": [
    "### 宣告list 儲存評估指標結果"
   ]
  },
  {
   "cell_type": "code",
   "execution_count": 8,
   "id": "9fef78c2",
   "metadata": {},
   "outputs": [],
   "source": [
    "list_accuracy=[]\n",
    "list_precision=[]\n",
    "list_recall=[]\n",
    "list_f1_Weight=[]\n",
    "list_f1_Micro=[]\n",
    "list_f1_Macro=[]\n",
    "list_AUC=[]"
   ]
  },
  {
   "cell_type": "markdown",
   "id": "575c0725",
   "metadata": {},
   "source": [
    "### 輸入KFold參數"
   ]
  },
  {
   "cell_type": "code",
   "execution_count": 9,
   "id": "06a9cc64",
   "metadata": {},
   "outputs": [],
   "source": [
    "KF = KFold(n_splits=10, shuffle=True,random_state=1) "
   ]
  },
  {
   "cell_type": "markdown",
   "id": "be19c27d",
   "metadata": {},
   "source": [
    "### 建立機器學習函式"
   ]
  },
  {
   "cell_type": "code",
   "execution_count": 10,
   "id": "9df240dd",
   "metadata": {},
   "outputs": [],
   "source": [
    "def ML(model):\n",
    "    score = ['accuracy', 'precision', 'recall', 'f1_weighted','f1_micro','f1_macro', 'roc_auc']\n",
    "    result =  cross_validate(model,X,Y,cv=KF,scoring=score)\n",
    "    return result"
   ]
  },
  {
   "cell_type": "markdown",
   "id": "fa87fdf8",
   "metadata": {},
   "source": [
    "### 決策樹"
   ]
  },
  {
   "cell_type": "code",
   "execution_count": 11,
   "id": "89796235",
   "metadata": {},
   "outputs": [],
   "source": [
    "DT = DecisionTreeClassifier()\n",
    "AdaBoost_DT = AdaBoostClassifier(base_estimator=DT,n_estimators=50,algorithm='SAMME')\n",
    "AdaBoost_DT_Score=ML(AdaBoost_DT)"
   ]
  },
  {
   "cell_type": "code",
   "execution_count": 12,
   "id": "0e3c8377",
   "metadata": {},
   "outputs": [],
   "source": [
    "list_accuracy.append(round(AdaBoost_DT_Score['test_accuracy'].mean(),4))\n",
    "\n",
    "list_precision.append(round(AdaBoost_DT_Score['test_precision'].mean(),4))\n",
    "\n",
    "list_recall.append(round(AdaBoost_DT_Score['test_recall'].mean(),4))\n",
    "\n",
    "list_f1_Weight.append(round(AdaBoost_DT_Score['test_f1_weighted'].mean(),4))\n",
    "\n",
    "list_f1_Micro.append(round(AdaBoost_DT_Score['test_f1_micro'].mean(),4))\n",
    "\n",
    "list_f1_Macro.append(round(AdaBoost_DT_Score['test_f1_macro'].mean(),4))\n",
    "\n",
    "list_AUC.append(round(AdaBoost_DT_Score['test_roc_auc'].mean(),4))"
   ]
  },
  {
   "cell_type": "markdown",
   "id": "4cef5e06",
   "metadata": {},
   "source": [
    "### 高斯天真貝氏"
   ]
  },
  {
   "cell_type": "code",
   "execution_count": 13,
   "id": "b0ecbcde",
   "metadata": {},
   "outputs": [],
   "source": [
    "GNB=GaussianNB()\n",
    "AdaBoost_GNB = AdaBoostClassifier(base_estimator=GNB,n_estimators=50,algorithm='SAMME')\n",
    "AdaBoost_GNB_Score=ML(AdaBoost_GNB)"
   ]
  },
  {
   "cell_type": "code",
   "execution_count": 14,
   "id": "a07cb825",
   "metadata": {},
   "outputs": [],
   "source": [
    "list_accuracy.append(round(AdaBoost_GNB_Score['test_accuracy'].mean(),4))\n",
    "\n",
    "list_precision.append(round(AdaBoost_GNB_Score['test_precision'].mean(),4))\n",
    "\n",
    "list_recall.append(round(AdaBoost_GNB_Score['test_recall'].mean(),4))\n",
    "\n",
    "list_f1_Weight.append(round(AdaBoost_GNB_Score['test_f1_weighted'].mean(),4))\n",
    "\n",
    "list_f1_Micro.append(round(AdaBoost_GNB_Score['test_f1_micro'].mean(),4))\n",
    "\n",
    "list_f1_Macro.append(round(AdaBoost_GNB_Score['test_f1_macro'].mean(),4))\n",
    "\n",
    "list_AUC.append(round(AdaBoost_GNB_Score['test_roc_auc'].mean(),4))"
   ]
  },
  {
   "cell_type": "markdown",
   "id": "de9e3056",
   "metadata": {},
   "source": [
    "### 多項式天真貝式"
   ]
  },
  {
   "cell_type": "code",
   "execution_count": 15,
   "id": "f17022fe",
   "metadata": {},
   "outputs": [],
   "source": [
    "MNB=MultinomialNB()\n",
    "AdaBoost_MNB = AdaBoostClassifier(base_estimator=MNB,n_estimators=50,algorithm='SAMME')\n",
    "AdaBoost_MNB_Score=ML(AdaBoost_MNB)"
   ]
  },
  {
   "cell_type": "code",
   "execution_count": 16,
   "id": "efe81325",
   "metadata": {},
   "outputs": [],
   "source": [
    "list_accuracy.append(round(AdaBoost_MNB_Score['test_accuracy'].mean(),4))\n",
    "\n",
    "list_precision.append(round(AdaBoost_MNB_Score['test_precision'].mean(),4))\n",
    "\n",
    "list_recall.append(round(AdaBoost_MNB_Score['test_recall'].mean(),4))\n",
    "\n",
    "list_f1_Weight.append(round(AdaBoost_MNB_Score['test_f1_weighted'].mean(),4))\n",
    "\n",
    "list_f1_Micro.append(round(AdaBoost_MNB_Score['test_f1_micro'].mean(),4))\n",
    "\n",
    "list_f1_Macro.append(round(AdaBoost_MNB_Score['test_f1_macro'].mean(),4))\n",
    "\n",
    "list_AUC.append(round(AdaBoost_MNB_Score['test_roc_auc'].mean(),4))"
   ]
  },
  {
   "cell_type": "markdown",
   "id": "9428ddbe",
   "metadata": {},
   "source": [
    "### Perceptron"
   ]
  },
  {
   "cell_type": "code",
   "execution_count": 17,
   "id": "4f78605f",
   "metadata": {},
   "outputs": [],
   "source": [
    "PLA=Perceptron(penalty='l2')\n",
    "AdaBoost_PLA = AdaBoostClassifier(base_estimator=PLA,n_estimators=50,algorithm='SAMME')\n",
    "AdaBoost_PLA_Score=ML(AdaBoost_PLA)"
   ]
  },
  {
   "cell_type": "code",
   "execution_count": 18,
   "id": "40382592",
   "metadata": {},
   "outputs": [],
   "source": [
    "list_accuracy.append(round(AdaBoost_PLA_Score['test_accuracy'].mean(),4))\n",
    "\n",
    "list_precision.append(round(AdaBoost_PLA_Score['test_precision'].mean(),4))\n",
    "\n",
    "list_recall.append(round(AdaBoost_PLA_Score['test_recall'].mean(),4))\n",
    "\n",
    "list_f1_Weight.append(round(AdaBoost_PLA_Score['test_f1_weighted'].mean(),4))\n",
    "\n",
    "list_f1_Micro.append(round(AdaBoost_PLA_Score['test_f1_micro'].mean(),4))\n",
    "\n",
    "list_f1_Macro.append(round(AdaBoost_PLA_Score['test_f1_macro'].mean(),4))\n",
    "\n",
    "list_AUC.append(round(AdaBoost_PLA_Score['test_roc_auc'].mean(),4))"
   ]
  },
  {
   "cell_type": "markdown",
   "id": "51bcc305",
   "metadata": {},
   "source": [
    "### 線性邏輯回歸"
   ]
  },
  {
   "cell_type": "code",
   "execution_count": 19,
   "id": "0dc67b13",
   "metadata": {},
   "outputs": [],
   "source": [
    "LR=linear_model.LogisticRegression()\n",
    "AdaBoost_LR = AdaBoostClassifier(base_estimator=LR,n_estimators=50,algorithm='SAMME')\n",
    "AdaBoost_LR_Score=ML(AdaBoost_LR)"
   ]
  },
  {
   "cell_type": "code",
   "execution_count": 20,
   "id": "9d95c22b",
   "metadata": {},
   "outputs": [],
   "source": [
    "list_accuracy.append(round(AdaBoost_LR_Score['test_accuracy'].mean(),4))\n",
    "\n",
    "list_precision.append(round(AdaBoost_LR_Score['test_precision'].mean(),4))\n",
    "\n",
    "list_recall.append(round(AdaBoost_LR_Score['test_recall'].mean(),4))\n",
    "\n",
    "list_f1_Weight.append(round(AdaBoost_LR_Score['test_f1_weighted'].mean(),4))\n",
    "\n",
    "list_f1_Micro.append(round(AdaBoost_LR_Score['test_f1_micro'].mean(),4))\n",
    "\n",
    "list_f1_Macro.append(round(AdaBoost_LR_Score['test_f1_macro'].mean(),4))\n",
    "\n",
    "list_AUC.append(round(AdaBoost_LR_Score['test_roc_auc'].mean(),4))"
   ]
  },
  {
   "cell_type": "code",
   "execution_count": 21,
   "id": "213604f4",
   "metadata": {},
   "outputs": [],
   "source": [
    "result_title=['AdaBoost Decision Tree','AdaBoost Gaussian Naive Bayes','Multinomial Naive Bayes','AdaBoost Perceptron','AdaBoost Logistic Regression']\n",
    "result_dict={'詞袋':result_title,'Accuracy':list_accuracy,'Precision':list_precision,'Recall':list_recall,'F1_Weight':list_f1_Weight,'F1_Micro':list_f1_Micro,'F1_Macro':list_f1_Macro,'AUC':list_AUC}"
   ]
  },
  {
   "cell_type": "markdown",
   "id": "5cffc84e",
   "metadata": {},
   "source": [
    "### SVM"
   ]
  },
  {
   "cell_type": "code",
   "execution_count": null,
   "id": "9c741e84",
   "metadata": {},
   "outputs": [],
   "source": [
    "SVM=svm.SVC(probability=True, kernel='linear')\n",
    "AdaBoost_SVM = AdaBoostClassifier(base_estimator=SVM,n_estimators=50,algorithm='SAMME')\n",
    "AdaBoost_SVM_Score=ML(AdaBoost_SVM )"
   ]
  },
  {
   "cell_type": "code",
   "execution_count": null,
   "id": "6428437a",
   "metadata": {},
   "outputs": [],
   "source": [
    "list_accuracy.append(round(AdaBoost_SVM_Score['test_accuracy'].mean(),4))\n",
    "\n",
    "list_precision.append(round(AdaBoost_SVM_Score['test_precision'].mean(),4))\n",
    "\n",
    "list_recall.append(round(AdaBoost_SVM_Score['test_recall'].mean(),4))\n",
    "\n",
    "list_f1_Weight.append(round(AdaBoost_SVM_Score['test_f1_weighted'].mean(),4))\n",
    "\n",
    "list_f1_Micro.append(round(AdaBoost_SVM_Score['test_f1_micro'].mean(),4))\n",
    "\n",
    "list_f1_Macro.append(round(AdaBoost_SVM_Score['test_f1_macro'].mean(),4))\n",
    "\n",
    "list_AUC.append(round(AdaBoost_SVM_Score['test_roc_auc'].mean(),4))"
   ]
  },
  {
   "cell_type": "code",
   "execution_count": null,
   "id": "7190c50d",
   "metadata": {},
   "outputs": [],
   "source": [
    "result_title=['AdaBoost Decision Tree','AdaBoost Gaussian Naive Bayes','AdaBoost Multinomial Naive Bayes','AdaBoost PLA','AdaBoost Logistic Regression','AdaBoost SVM']\n",
    "result_dict={'文本':result_title,'Accuracy':list_accuracy,'Precision':list_precision,'Recall':list_recall,'F1_Weight':list_f1_Weight,'F1_Micro':list_f1_Micro,'F1_Macro':list_f1_Macro,'AUC':list_AUC}"
   ]
  },
  {
   "cell_type": "code",
   "execution_count": null,
   "id": "b136e3d9",
   "metadata": {},
   "outputs": [],
   "source": [
    "df = pd.DataFrame(result_dict).T"
   ]
  }
 ],
 "metadata": {
  "kernelspec": {
   "display_name": "Python 3 (ipykernel)",
   "language": "python",
   "name": "python3"
  },
  "language_info": {
   "codemirror_mode": {
    "name": "ipython",
    "version": 3
   },
   "file_extension": ".py",
   "mimetype": "text/x-python",
   "name": "python",
   "nbconvert_exporter": "python",
   "pygments_lexer": "ipython3",
   "version": "3.7.13"
  }
 },
 "nbformat": 4,
 "nbformat_minor": 5
}

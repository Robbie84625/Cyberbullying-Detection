{
 "cells": [
  {
   "cell_type": "markdown",
   "id": "81cfd775",
   "metadata": {},
   "source": [
    "### 匯入套件"
   ]
  },
  {
   "cell_type": "code",
   "execution_count": 6,
   "id": "ca303794",
   "metadata": {},
   "outputs": [],
   "source": [
    "import pandas as pd\n",
    "import warnings"
   ]
  },
  {
   "cell_type": "code",
   "execution_count": 7,
   "id": "fd3b1abf",
   "metadata": {},
   "outputs": [],
   "source": [
    "from sklearn.tree import DecisionTreeClassifier    #決策樹\n",
    "from sklearn.naive_bayes import GaussianNB         #高斯天真貝氏\n",
    "from sklearn.naive_bayes import MultinomialNB      #多項式天真貝氏\n",
    "from sklearn.linear_model import Perceptron        #感知器\n",
    "from sklearn.neighbors import KNeighborsClassifier #KNN\n",
    "from sklearn import linear_model                   #邏輯回歸\n",
    "from sklearn import svm                            #SVM"
   ]
  },
  {
   "cell_type": "code",
   "execution_count": 8,
   "id": "e94645e6",
   "metadata": {},
   "outputs": [],
   "source": [
    "from sklearn.model_selection import KFold\n",
    "from sklearn.model_selection import cross_validate\n",
    "from sklearn.metrics import accuracy_score, precision_score, recall_score, f1_score, roc_auc_score"
   ]
  },
  {
   "cell_type": "code",
   "execution_count": 9,
   "id": "a5591c22",
   "metadata": {},
   "outputs": [],
   "source": [
    "warnings.filterwarnings('ignore')"
   ]
  },
  {
   "cell_type": "markdown",
   "id": "a32db5a8",
   "metadata": {},
   "source": [
    "### 導入文本資料"
   ]
  },
  {
   "cell_type": "code",
   "execution_count": 10,
   "id": "e00b76e3",
   "metadata": {},
   "outputs": [],
   "source": [
    "Word_array = pd.read_csv(r\"..\\..\\..\\Feature_Array\\PTT\\Python\\Main_Features\\TF-IDF_500.csv\", header=0,index_col=None)\n",
    "\n",
    "X=Word_array .iloc[:, :-1]\n",
    "Y=Word_array['answer']"
   ]
  },
  {
   "cell_type": "markdown",
   "id": "e317a8fe",
   "metadata": {},
   "source": [
    "### 宣告list 儲存評估指標結果"
   ]
  },
  {
   "cell_type": "code",
   "execution_count": 7,
   "id": "2fa3c0c8",
   "metadata": {},
   "outputs": [],
   "source": [
    "list_accuracy=[]\n",
    "list_precision=[]\n",
    "list_recall=[]\n",
    "list_f1_Weight=[]\n",
    "list_f1_Micro=[]\n",
    "list_f1_Macro=[]\n",
    "list_AUC=[]"
   ]
  },
  {
   "cell_type": "markdown",
   "id": "66279cc9",
   "metadata": {},
   "source": [
    "### 輸入KFold參數"
   ]
  },
  {
   "cell_type": "code",
   "execution_count": 8,
   "id": "85b338df",
   "metadata": {},
   "outputs": [],
   "source": [
    "KF = KFold(n_splits=10, shuffle=True,random_state=1) "
   ]
  },
  {
   "cell_type": "markdown",
   "id": "caf29393",
   "metadata": {},
   "source": [
    "### 建立機器學習函式"
   ]
  },
  {
   "cell_type": "code",
   "execution_count": 9,
   "id": "5497c271",
   "metadata": {},
   "outputs": [],
   "source": [
    "def ML(model):\n",
    "    score = ['accuracy', 'precision', 'recall', 'f1_weighted','f1_micro','f1_macro', 'roc_auc']\n",
    "    result =  cross_validate(model,X,Y,cv=KF,scoring=score)\n",
    "    return result"
   ]
  },
  {
   "cell_type": "markdown",
   "id": "d17b1ff4",
   "metadata": {},
   "source": [
    "### 決策樹"
   ]
  },
  {
   "cell_type": "code",
   "execution_count": 10,
   "id": "0b3dbd38",
   "metadata": {},
   "outputs": [],
   "source": [
    "DT = DecisionTreeClassifier()\n",
    "DT_Score=ML(DT)"
   ]
  },
  {
   "cell_type": "code",
   "execution_count": 11,
   "id": "2cd7a997",
   "metadata": {},
   "outputs": [],
   "source": [
    "list_accuracy.append(round(DT_Score['test_accuracy'].mean(),4))\n",
    "\n",
    "list_precision.append(round(DT_Score['test_precision'].mean(),4))\n",
    "\n",
    "list_recall.append(round(DT_Score['test_recall'].mean(),4))\n",
    "\n",
    "list_f1_Weight.append(round(DT_Score['test_f1_weighted'].mean(),4))\n",
    "\n",
    "list_f1_Micro.append(round(DT_Score['test_f1_micro'].mean(),4))\n",
    "\n",
    "list_f1_Macro.append(round(DT_Score['test_f1_macro'].mean(),4))\n",
    "\n",
    "list_AUC.append(round(DT_Score['test_roc_auc'].mean(),4))"
   ]
  },
  {
   "cell_type": "markdown",
   "id": "af89c20f",
   "metadata": {},
   "source": [
    "### 高斯天真貝氏"
   ]
  },
  {
   "cell_type": "code",
   "execution_count": 12,
   "id": "7f3d30db",
   "metadata": {},
   "outputs": [],
   "source": [
    "GNB=GaussianNB()\n",
    "GNB_Score=ML(GNB)"
   ]
  },
  {
   "cell_type": "code",
   "execution_count": 13,
   "id": "3822ad04",
   "metadata": {},
   "outputs": [],
   "source": [
    "list_accuracy.append(round(GNB_Score['test_accuracy'].mean(),4))\n",
    "\n",
    "list_precision.append(round(GNB_Score['test_precision'].mean(),4))\n",
    "\n",
    "list_recall.append(round(GNB_Score['test_recall'].mean(),4))\n",
    "\n",
    "list_f1_Weight.append(round(GNB_Score['test_f1_weighted'].mean(),4))\n",
    "\n",
    "list_f1_Micro.append(round(GNB_Score['test_f1_micro'].mean(),4))\n",
    "\n",
    "list_f1_Macro.append(round(GNB_Score['test_f1_macro'].mean(),4))\n",
    "\n",
    "list_AUC.append(round(GNB_Score['test_roc_auc'].mean(),4))"
   ]
  },
  {
   "cell_type": "markdown",
   "id": "d7d58d14",
   "metadata": {},
   "source": [
    "### 多項式天真貝氏"
   ]
  },
  {
   "cell_type": "code",
   "execution_count": 14,
   "id": "beb53f22",
   "metadata": {},
   "outputs": [],
   "source": [
    "MNB= MultinomialNB()\n",
    "MNB_Score=ML(MNB)"
   ]
  },
  {
   "cell_type": "code",
   "execution_count": 15,
   "id": "378eea1b",
   "metadata": {},
   "outputs": [],
   "source": [
    "list_accuracy.append(round(MNB_Score['test_accuracy'].mean(),4))\n",
    "\n",
    "list_precision.append(round(MNB_Score['test_precision'].mean(),4))\n",
    "\n",
    "list_recall.append(round(MNB_Score['test_recall'].mean(),4))\n",
    "\n",
    "list_f1_Weight.append(round(MNB_Score['test_f1_weighted'].mean(),4))\n",
    "\n",
    "list_f1_Micro.append(round(MNB_Score['test_f1_micro'].mean(),4))\n",
    "\n",
    "list_f1_Macro.append(round(MNB_Score['test_f1_macro'].mean(),4))\n",
    "\n",
    "list_AUC.append(round(MNB_Score['test_roc_auc'].mean(),4))"
   ]
  },
  {
   "cell_type": "markdown",
   "id": "8766e17a",
   "metadata": {},
   "source": [
    "### Perceptron"
   ]
  },
  {
   "cell_type": "code",
   "execution_count": 16,
   "id": "d287a7de",
   "metadata": {},
   "outputs": [],
   "source": [
    "PLA=Perceptron(penalty='l2')\n",
    "PLA_Score=ML(PLA)"
   ]
  },
  {
   "cell_type": "code",
   "execution_count": 17,
   "id": "4bb2a437",
   "metadata": {},
   "outputs": [],
   "source": [
    "list_accuracy.append(round(PLA_Score['test_accuracy'].mean(),4))\n",
    "\n",
    "list_precision.append(round(PLA_Score['test_precision'].mean(),4))\n",
    "\n",
    "list_recall.append(round(PLA_Score['test_recall'].mean(),4))\n",
    "\n",
    "list_f1_Weight.append(round(PLA_Score['test_f1_weighted'].mean(),4))\n",
    "\n",
    "list_f1_Micro.append(round(PLA_Score['test_f1_micro'].mean(),4))\n",
    "\n",
    "list_f1_Macro.append(round(PLA_Score['test_f1_macro'].mean(),4))\n",
    "\n",
    "list_AUC.append(round(PLA_Score['test_roc_auc'].mean(),4))"
   ]
  },
  {
   "cell_type": "markdown",
   "id": "83aeadde",
   "metadata": {},
   "source": [
    "### 線性邏輯回歸"
   ]
  },
  {
   "cell_type": "code",
   "execution_count": 18,
   "id": "ab443ab2",
   "metadata": {},
   "outputs": [],
   "source": [
    "LR=linear_model.LogisticRegression()\n",
    "LR_Score=ML(LR)"
   ]
  },
  {
   "cell_type": "code",
   "execution_count": 19,
   "id": "c03fd5a0",
   "metadata": {},
   "outputs": [],
   "source": [
    "list_accuracy.append(round(LR_Score['test_accuracy'].mean(),4))\n",
    "\n",
    "list_precision.append(round(LR_Score['test_precision'].mean(),4))\n",
    "\n",
    "list_recall.append(round(LR_Score['test_recall'].mean(),4))\n",
    "\n",
    "list_f1_Weight.append(round(LR_Score['test_f1_weighted'].mean(),4))\n",
    "\n",
    "list_f1_Micro.append(round(LR_Score['test_f1_micro'].mean(),4))\n",
    "\n",
    "list_f1_Macro.append(round(LR_Score['test_f1_macro'].mean(),4))\n",
    "\n",
    "list_AUC.append(round(LR_Score['test_roc_auc'].mean(),4))"
   ]
  },
  {
   "cell_type": "markdown",
   "id": "d1f4e392",
   "metadata": {},
   "source": [
    "### KNN"
   ]
  },
  {
   "cell_type": "code",
   "execution_count": 20,
   "id": "e76e4e93",
   "metadata": {},
   "outputs": [],
   "source": [
    "KNN = KNeighborsClassifier()\n",
    "KNN_Score=ML(KNN)"
   ]
  },
  {
   "cell_type": "code",
   "execution_count": 21,
   "id": "24c14b58",
   "metadata": {},
   "outputs": [],
   "source": [
    "list_accuracy.append(round(KNN_Score['test_accuracy'].mean(),4))\n",
    "\n",
    "list_precision.append(round(KNN_Score['test_precision'].mean(),4))\n",
    "\n",
    "list_recall.append(round(KNN_Score['test_recall'].mean(),4))\n",
    "\n",
    "list_f1_Weight.append(round(KNN_Score['test_f1_weighted'].mean(),4))\n",
    "\n",
    "list_f1_Micro.append(round(KNN_Score['test_f1_micro'].mean(),4))\n",
    "\n",
    "list_f1_Macro.append(round(KNN_Score['test_f1_macro'].mean(),4))\n",
    "\n",
    "list_AUC.append(round(KNN_Score['test_roc_auc'].mean(),4))"
   ]
  },
  {
   "cell_type": "markdown",
   "id": "0b0c7cd2",
   "metadata": {},
   "source": [
    "### SVM"
   ]
  },
  {
   "cell_type": "code",
   "execution_count": 22,
   "id": "239a8274",
   "metadata": {},
   "outputs": [],
   "source": [
    "SVM=svm.SVC(probability=True, kernel='linear')\n",
    "SVM_Score=ML(SVM)"
   ]
  },
  {
   "cell_type": "code",
   "execution_count": 23,
   "id": "a42eb873",
   "metadata": {},
   "outputs": [],
   "source": [
    "list_accuracy.append(round(SVM_Score['test_accuracy'].mean(),4))\n",
    "\n",
    "list_precision.append(round(SVM_Score['test_precision'].mean(),4))\n",
    "\n",
    "list_recall.append(round(SVM_Score['test_recall'].mean(),4))\n",
    "\n",
    "list_f1_Weight.append(round(SVM_Score['test_f1_weighted'].mean(),4))\n",
    "\n",
    "list_f1_Micro.append(round(SVM_Score['test_f1_micro'].mean(),4))\n",
    "\n",
    "list_f1_Macro.append(round(SVM_Score['test_f1_macro'].mean(),4))\n",
    "\n",
    "list_AUC.append(round(SVM_Score['test_roc_auc'].mean(),4))"
   ]
  },
  {
   "cell_type": "code",
   "execution_count": 24,
   "id": "f0a384fe",
   "metadata": {},
   "outputs": [],
   "source": [
    "result_title=['Decision Tree','Gaussian Naive Bayes','Multinomial Naive Bayes','PLA','Logistic Regression','KNN','SVM']\n",
    "result_dict={'文本':result_title,'Accuracy':list_accuracy,'Precision':list_precision,'Recall':list_recall,'F1_Weight':list_f1_Weight,'F1_Micro':list_f1_Micro,'F1_Macro':list_f1_Macro,'AUC':list_AUC}"
   ]
  },
  {
   "cell_type": "code",
   "execution_count": 25,
   "id": "b703e222",
   "metadata": {},
   "outputs": [],
   "source": [
    "df = pd.DataFrame(result_dict).T"
   ]
  },
  {
   "cell_type": "code",
   "execution_count": 26,
   "id": "48d43894",
   "metadata": {},
   "outputs": [],
   "source": [
    "df.to_csv (r\"..\\..\\..\\結果\\PTT\\詞袋模型\\PTT_詞袋.csv\", index = True, header=False,encoding='utf_8_sig')"
   ]
  }
 ],
 "metadata": {
  "kernelspec": {
   "display_name": "Python 3 (ipykernel)",
   "language": "python",
   "name": "python3"
  },
  "language_info": {
   "codemirror_mode": {
    "name": "ipython",
    "version": 3
   },
   "file_extension": ".py",
   "mimetype": "text/x-python",
   "name": "python",
   "nbconvert_exporter": "python",
   "pygments_lexer": "ipython3",
   "version": "3.7.13"
  }
 },
 "nbformat": 4,
 "nbformat_minor": 5
}

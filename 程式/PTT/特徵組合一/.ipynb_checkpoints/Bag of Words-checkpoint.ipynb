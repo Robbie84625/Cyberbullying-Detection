{
 "cells": [
  {
   "cell_type": "markdown",
   "id": "81cfd775",
   "metadata": {},
   "source": [
    "### 匯入套件"
   ]
  },
  {
   "cell_type": "code",
   "execution_count": 1,
   "id": "ca303794",
   "metadata": {},
   "outputs": [],
   "source": [
    "import pandas as pd\n",
    "import warnings"
   ]
  },
  {
   "cell_type": "code",
   "execution_count": 2,
   "id": "fd3b1abf",
   "metadata": {},
   "outputs": [],
   "source": [
    "from sklearn.tree import DecisionTreeClassifier    #決策樹\n",
    "from sklearn.ensemble import RandomForestClassifier#隨機森林\n",
    "from sklearn.naive_bayes import GaussianNB         #天真貝氏\n",
    "from sklearn.neighbors import KNeighborsClassifier #KNN\n",
    "from sklearn import linear_model                   #邏輯回歸\n",
    "from sklearn import svm                            #SVM"
   ]
  },
  {
   "cell_type": "code",
   "execution_count": 3,
   "id": "77036940",
   "metadata": {},
   "outputs": [],
   "source": [
    "from sklearn.model_selection import cross_val_score\n",
    "from sklearn.model_selection import train_test_split\n",
    "from sklearn.model_selection import KFold\n",
    "from sklearn.metrics import f1_score, roc_auc_score, precision_score, recall_score, accuracy_score"
   ]
  },
  {
   "cell_type": "code",
   "execution_count": 10,
   "id": "7e761511",
   "metadata": {},
   "outputs": [],
   "source": [
    "from sklearn.model_selection import cross_val_predict\n",
    "from sklearn.metrics import confusion_matrix"
   ]
  },
  {
   "cell_type": "code",
   "execution_count": 4,
   "id": "a5591c22",
   "metadata": {},
   "outputs": [],
   "source": [
    "warnings.filterwarnings('ignore')"
   ]
  },
  {
   "cell_type": "markdown",
   "id": "a32db5a8",
   "metadata": {},
   "source": [
    "### 導入Bag of Word資料"
   ]
  },
  {
   "cell_type": "code",
   "execution_count": 5,
   "id": "e00b76e3",
   "metadata": {},
   "outputs": [],
   "source": [
    "BagOfWord = pd.read_csv(r\"..\\..\\..\\Feature_Array\\PTT\\Main_Features\\Bag_of_Word.csv\", header=0,index_col=None)\n",
    "\n",
    "X=BagOfWord .iloc[:, :-1]\n",
    "Y=BagOfWord['answer']"
   ]
  },
  {
   "cell_type": "markdown",
   "id": "e317a8fe",
   "metadata": {},
   "source": [
    "### 宣告list 儲存評估指標結果"
   ]
  },
  {
   "cell_type": "code",
   "execution_count": 6,
   "id": "2fa3c0c8",
   "metadata": {},
   "outputs": [],
   "source": [
    "list_accuracy=[]\n",
    "list_precision=[]\n",
    "list_recall=[]\n",
    "list_f1_Weight=[]\n",
    "list_f1_Micro=[]\n",
    "list_f1_Macro=[]\n",
    "list_AUC=[]"
   ]
  },
  {
   "cell_type": "markdown",
   "id": "caf29393",
   "metadata": {},
   "source": [
    "### 建立機器學習函式"
   ]
  },
  {
   "cell_type": "code",
   "execution_count": 22,
   "id": "5497c271",
   "metadata": {},
   "outputs": [],
   "source": [
    "def ML(model,score):\n",
    "    result = cross_val_score(model,X,Y,cv=KF,scoring=score)\n",
    "    return round(result.mean(),4)"
   ]
  },
  {
   "cell_type": "markdown",
   "id": "67cb0053",
   "metadata": {},
   "source": [
    "### 設定k折交叉驗證參數"
   ]
  },
  {
   "cell_type": "code",
   "execution_count": 27,
   "id": "3c9e2f5a",
   "metadata": {},
   "outputs": [],
   "source": [
    "KF = KFold(n_splits=10, shuffle=True) "
   ]
  },
  {
   "cell_type": "markdown",
   "id": "d17b1ff4",
   "metadata": {},
   "source": [
    "### 決策樹"
   ]
  },
  {
   "cell_type": "code",
   "execution_count": 19,
   "id": "0b3dbd38",
   "metadata": {},
   "outputs": [],
   "source": [
    "DT = DecisionTreeClassifier()"
   ]
  },
  {
   "cell_type": "code",
   "execution_count": 9,
   "id": "2cd7a997",
   "metadata": {},
   "outputs": [],
   "source": [
    "list_accuracy.append(ML(DT,'accuracy'))\n",
    "\n",
    "list_precision.append(ML(DT,'precision'))\n",
    "\n",
    "list_recall.append(ML(DT,'recall'))\n",
    "\n",
    "list_f1_Weight.append(ML(DT,'f1_weighted'))\n",
    "\n",
    "list_f1_Micro.append(ML(DT,'f1_micro'))\n",
    "\n",
    "list_f1_Macro.append(ML(DT,'f1_macro'))\n",
    "\n",
    "list_AUC.append(ML(DT,'roc_auc'))"
   ]
  },
  {
   "cell_type": "markdown",
   "id": "af89c20f",
   "metadata": {},
   "source": [
    "### 隨機森林"
   ]
  },
  {
   "cell_type": "code",
   "execution_count": 11,
   "id": "7f3d30db",
   "metadata": {},
   "outputs": [],
   "source": [
    "RF = RandomForestClassifier()"
   ]
  },
  {
   "cell_type": "code",
   "execution_count": 12,
   "id": "3822ad04",
   "metadata": {},
   "outputs": [],
   "source": [
    "list_accuracy.append(ML(RF,'accuracy'))\n",
    "\n",
    "list_precision.append(ML(RF,'precision'))\n",
    "\n",
    "list_recall.append(ML(RF,'recall'))\n",
    "\n",
    "list_f1_Weight.append(ML(RF,'f1_weighted'))\n",
    "\n",
    "list_f1_Micro.append(ML(RF,'f1_micro'))\n",
    "\n",
    "list_f1_Macro.append(ML(RF,'f1_macro'))\n",
    "\n",
    "list_AUC.append(ML(RF,'roc_auc'))"
   ]
  },
  {
   "cell_type": "markdown",
   "id": "d7d58d14",
   "metadata": {},
   "source": [
    "### 天真貝氏"
   ]
  },
  {
   "cell_type": "code",
   "execution_count": 25,
   "id": "beb53f22",
   "metadata": {},
   "outputs": [],
   "source": [
    "NB=GaussianNB()"
   ]
  },
  {
   "cell_type": "code",
   "execution_count": 15,
   "id": "378eea1b",
   "metadata": {},
   "outputs": [],
   "source": [
    "list_accuracy.append(ML(NB,'accuracy'))\n",
    "\n",
    "list_precision.append(ML(NB,'precision'))\n",
    "\n",
    "list_recall.append(ML(NB,'recall'))\n",
    "\n",
    "list_f1_Weight.append(ML(NB,'f1_weighted'))\n",
    "\n",
    "list_f1_Micro.append(ML(NB,'f1_micro'))\n",
    "\n",
    "list_f1_Macro.append(ML(NB,'f1_macro'))\n",
    "\n",
    "list_AUC.append(ML(NB,'roc_auc'))"
   ]
  },
  {
   "cell_type": "markdown",
   "id": "83aeadde",
   "metadata": {},
   "source": [
    "### 線性邏輯回歸"
   ]
  },
  {
   "cell_type": "code",
   "execution_count": 17,
   "id": "ab443ab2",
   "metadata": {},
   "outputs": [],
   "source": [
    "LR=linear_model.LogisticRegression()"
   ]
  },
  {
   "cell_type": "code",
   "execution_count": 18,
   "id": "f6ecf349",
   "metadata": {},
   "outputs": [],
   "source": [
    "list_accuracy.append(ML(LR,'accuracy'))\n",
    "\n",
    "list_precision.append(ML(LR,'precision'))\n",
    "\n",
    "list_recall.append(ML(LR,'recall'))\n",
    "\n",
    "list_f1_Weight.append(ML(LR,'f1_weighted'))\n",
    "\n",
    "list_f1_Micro.append(ML(LR,'f1_micro'))\n",
    "\n",
    "list_f1_Macro.append(ML(LR,'f1_macro'))\n",
    "\n",
    "list_AUC.append(ML(LR,'roc_auc'))"
   ]
  },
  {
   "cell_type": "markdown",
   "id": "d1f4e392",
   "metadata": {},
   "source": [
    "### KNN"
   ]
  },
  {
   "cell_type": "code",
   "execution_count": 20,
   "id": "e76e4e93",
   "metadata": {},
   "outputs": [],
   "source": [
    "KNN = KNeighborsClassifier()"
   ]
  },
  {
   "cell_type": "code",
   "execution_count": 21,
   "id": "744a436b",
   "metadata": {},
   "outputs": [],
   "source": [
    "list_accuracy.append(ML(KNN,'accuracy'))\n",
    "\n",
    "list_precision.append(ML(KNN,'precision'))\n",
    "\n",
    "list_recall.append(ML(KNN,'recall'))\n",
    "\n",
    "list_f1_Weight.append(ML(KNN,'f1_weighted'))\n",
    "\n",
    "list_f1_Micro.append(ML(KNN,'f1_micro'))\n",
    "\n",
    "list_f1_Macro.append(ML(KNN,'f1_macro'))\n",
    "\n",
    "list_AUC.append(ML(KNN,'roc_auc'))"
   ]
  },
  {
   "cell_type": "markdown",
   "id": "0b0c7cd2",
   "metadata": {},
   "source": [
    "### SVM"
   ]
  },
  {
   "cell_type": "code",
   "execution_count": 23,
   "id": "239a8274",
   "metadata": {},
   "outputs": [],
   "source": [
    "SVM=svm.SVC()"
   ]
  },
  {
   "cell_type": "code",
   "execution_count": 24,
   "id": "f585f175",
   "metadata": {},
   "outputs": [],
   "source": [
    "list_accuracy.append(ML(SVM,'accuracy'))\n",
    "\n",
    "list_precision.append(ML(SVM,'precision'))\n",
    "\n",
    "list_recall.append(ML(SVM,'recall'))\n",
    "\n",
    "list_f1_Weight.append(ML(SVM,'f1_weighted'))\n",
    "\n",
    "list_f1_Micro.append(ML(SVM,'f1_micro'))\n",
    "\n",
    "list_f1_Macro.append(ML(SVM,'f1_macro'))\n",
    "\n",
    "list_AUC.append(ML(SVM,'roc_auc'))"
   ]
  },
  {
   "cell_type": "code",
   "execution_count": 29,
   "id": "f0a384fe",
   "metadata": {},
   "outputs": [],
   "source": [
    "result_title=['Decision Tree','Random Forest','Gaussian Naive Bayes','Logistic Regression','KNN','SVM']\n",
    "result_dict={'Bag of words':result_title,'Accuracy':list_accuracy,'Precision':list_precision,'Recall':list_recall,'F1_Weight':list_f1_Weight,'F1_Micro':list_f1_Micro,'F1_Macro':list_f1_Macro,'AUC':list_AUC}"
   ]
  },
  {
   "cell_type": "code",
   "execution_count": 20,
   "id": "b703e222",
   "metadata": {},
   "outputs": [],
   "source": [
    "df = pd.DataFrame(result_dict).T"
   ]
  },
  {
   "cell_type": "code",
   "execution_count": 32,
   "id": "48d43894",
   "metadata": {},
   "outputs": [
    {
     "ename": "NameError",
     "evalue": "name 'df' is not defined",
     "output_type": "error",
     "traceback": [
      "\u001b[1;31m---------------------------------------------------------------------------\u001b[0m",
      "\u001b[1;31mNameError\u001b[0m                                 Traceback (most recent call last)",
      "\u001b[1;32m~\\AppData\\Local\\Temp\\ipykernel_9652\\357197742.py\u001b[0m in \u001b[0;36m<module>\u001b[1;34m\u001b[0m\n\u001b[1;32m----> 1\u001b[1;33m \u001b[0mdf\u001b[0m\u001b[1;33m.\u001b[0m\u001b[0mto_csv\u001b[0m \u001b[1;33m(\u001b[0m\u001b[1;34mr\"..\\..\\..\\結果\\PTT\\1_文本\\PTT_詞袋.csv\"\u001b[0m\u001b[1;33m,\u001b[0m \u001b[0mindex\u001b[0m \u001b[1;33m=\u001b[0m \u001b[1;32mTrue\u001b[0m\u001b[1;33m,\u001b[0m \u001b[0mheader\u001b[0m\u001b[1;33m=\u001b[0m\u001b[1;32mFalse\u001b[0m\u001b[1;33m,\u001b[0m\u001b[0mencoding\u001b[0m\u001b[1;33m=\u001b[0m\u001b[1;34m'utf_8_sig'\u001b[0m\u001b[1;33m)\u001b[0m\u001b[1;33m\u001b[0m\u001b[1;33m\u001b[0m\u001b[0m\n\u001b[0m",
      "\u001b[1;31mNameError\u001b[0m: name 'df' is not defined"
     ]
    }
   ],
   "source": [
    "df.to_csv (r\"..\\..\\..\\結果\\PTT\\1_文本\\PTT_詞袋.csv\", index = True, header=False,encoding='utf_8_sig')"
   ]
  }
 ],
 "metadata": {
  "kernelspec": {
   "display_name": "Python 3 (ipykernel)",
   "language": "python",
   "name": "python3"
  },
  "language_info": {
   "codemirror_mode": {
    "name": "ipython",
    "version": 3
   },
   "file_extension": ".py",
   "mimetype": "text/x-python",
   "name": "python",
   "nbconvert_exporter": "python",
   "pygments_lexer": "ipython3",
   "version": "3.7.13"
  }
 },
 "nbformat": 4,
 "nbformat_minor": 5
}

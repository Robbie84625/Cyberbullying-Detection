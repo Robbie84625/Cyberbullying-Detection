{
 "cells": [
  {
   "cell_type": "markdown",
   "id": "dabb98e4",
   "metadata": {},
   "source": [
    "### 匯入套件"
   ]
  },
  {
   "cell_type": "code",
   "execution_count": 1,
   "id": "298c6d91",
   "metadata": {},
   "outputs": [],
   "source": [
    "import pandas as pd\n",
    "import warnings"
   ]
  },
  {
   "cell_type": "code",
   "execution_count": 2,
   "id": "86417360",
   "metadata": {},
   "outputs": [],
   "source": [
    "from sklearn.tree import DecisionTreeClassifier    #決策樹\n",
    "from sklearn.ensemble import RandomForestClassifier#隨機森林\n",
    "from sklearn.naive_bayes import GaussianNB         #天真貝氏\n",
    "from sklearn.neighbors import KNeighborsClassifier #KNN\n",
    "from sklearn import linear_model                   #邏輯回歸\n",
    "from sklearn import svm                            #SVM"
   ]
  },
  {
   "cell_type": "code",
   "execution_count": 3,
   "id": "e50cee1e",
   "metadata": {},
   "outputs": [],
   "source": [
    "from sklearn.model_selection import cross_val_score\n",
    "from sklearn.model_selection import train_test_split\n",
    "from sklearn.model_selection import KFold\n",
    "from sklearn.metrics import f1_score, roc_auc_score, precision_score, recall_score, accuracy_score"
   ]
  },
  {
   "cell_type": "code",
   "execution_count": 4,
   "id": "5cd1c568",
   "metadata": {},
   "outputs": [],
   "source": [
    "warnings.filterwarnings('ignore')"
   ]
  },
  {
   "cell_type": "markdown",
   "id": "4e9747d5",
   "metadata": {},
   "source": [
    "### 導入TF-IDF挑選1000字資料"
   ]
  },
  {
   "cell_type": "code",
   "execution_count": 5,
   "id": "1ea49e1a",
   "metadata": {},
   "outputs": [],
   "source": [
    "TFIDF_1000 = pd.read_csv(r\"..\\..\\..\\Feature_Array\\PTT\\Main_Features\\TF-IDF_1000字.csv\", header=0,index_col=None)\n",
    "\n",
    "X=TFIDF_1000 .iloc[:, :-1]\n",
    "Y=TFIDF_1000['answer']"
   ]
  },
  {
   "cell_type": "markdown",
   "id": "2a2a756b",
   "metadata": {},
   "source": [
    "### 宣告list 儲存評估指標結果"
   ]
  },
  {
   "cell_type": "code",
   "execution_count": 6,
   "id": "9fef78c2",
   "metadata": {},
   "outputs": [],
   "source": [
    "list_accuracy=[]\n",
    "list_precision=[]\n",
    "list_recall=[]\n",
    "list_f1_Weight=[]\n",
    "list_f1_Micro=[]\n",
    "list_f1_Macro=[]\n",
    "list_AUC=[]"
   ]
  },
  {
   "cell_type": "markdown",
   "id": "31644c8c",
   "metadata": {},
   "source": [
    "### 建立機器學習函式"
   ]
  },
  {
   "cell_type": "code",
   "execution_count": 7,
   "id": "495dfeb6",
   "metadata": {},
   "outputs": [],
   "source": [
    "def ML(model,score):\n",
    "    result = cross_val_score(model,X,Y,cv=KF,scoring=score)\n",
    "    return round(result.mean(),4)"
   ]
  },
  {
   "cell_type": "markdown",
   "id": "36ff265d",
   "metadata": {},
   "source": [
    "### 設定k折交叉驗證參數"
   ]
  },
  {
   "cell_type": "code",
   "execution_count": 8,
   "id": "e1fd69e7",
   "metadata": {},
   "outputs": [],
   "source": [
    "KF = KFold(n_splits=10, shuffle=True) "
   ]
  },
  {
   "cell_type": "markdown",
   "id": "fa87fdf8",
   "metadata": {},
   "source": [
    "### 決策樹"
   ]
  },
  {
   "cell_type": "code",
   "execution_count": 9,
   "id": "89796235",
   "metadata": {},
   "outputs": [],
   "source": [
    "DT = DecisionTreeClassifier()"
   ]
  },
  {
   "cell_type": "code",
   "execution_count": 10,
   "id": "6350990d",
   "metadata": {},
   "outputs": [],
   "source": [
    "list_accuracy.append(ML(DT,'accuracy'))\n",
    "\n",
    "list_precision.append(ML(DT,'precision'))\n",
    "\n",
    "list_recall.append(ML(DT,'recall'))\n",
    "\n",
    "list_f1_Weight.append(ML(DT,'f1_weighted'))\n",
    "\n",
    "list_f1_Micro.append(ML(DT,'f1_micro'))\n",
    "\n",
    "list_f1_Macro.append(ML(DT,'f1_macro'))\n",
    "\n",
    "list_AUC.append(ML(DT,'roc_auc'))"
   ]
  },
  {
   "cell_type": "markdown",
   "id": "db32fa28",
   "metadata": {},
   "source": [
    "### 隨機森林"
   ]
  },
  {
   "cell_type": "code",
   "execution_count": 11,
   "id": "873569ea",
   "metadata": {},
   "outputs": [],
   "source": [
    "RF = RandomForestClassifier()"
   ]
  },
  {
   "cell_type": "code",
   "execution_count": null,
   "id": "5c79ae7e",
   "metadata": {},
   "outputs": [],
   "source": [
    "list_accuracy.append(ML(RF,'accuracy'))\n",
    "\n",
    "list_precision.append(ML(RF,'precision'))\n",
    "\n",
    "list_recall.append(ML(RF,'recall'))\n",
    "\n",
    "list_f1_Weight.append(ML(RF,'f1_weighted'))\n",
    "\n",
    "list_f1_Micro.append(ML(RF,'f1_micro'))\n",
    "\n",
    "list_f1_Macro.append(ML(RF,'f1_macro'))\n",
    "\n",
    "list_AUC.append(ML(RF,'roc_auc'))"
   ]
  },
  {
   "cell_type": "markdown",
   "id": "5cffc84e",
   "metadata": {},
   "source": [
    "### 天真貝氏"
   ]
  },
  {
   "cell_type": "code",
   "execution_count": null,
   "id": "5bcf9fa1",
   "metadata": {},
   "outputs": [],
   "source": [
    "NB=GaussianNB()"
   ]
  },
  {
   "cell_type": "code",
   "execution_count": null,
   "id": "6234b837",
   "metadata": {},
   "outputs": [],
   "source": [
    "list_accuracy.append(ML(NB,'accuracy'))\n",
    "\n",
    "list_precision.append(ML(NB,'precision'))\n",
    "\n",
    "list_recall.append(ML(NB,'recall'))\n",
    "\n",
    "list_f1_Weight.append(ML(NB,'f1_weighted'))\n",
    "\n",
    "list_f1_Micro.append(ML(NB,'f1_micro'))\n",
    "\n",
    "list_f1_Macro.append(ML(NB,'f1_macro'))\n",
    "\n",
    "list_AUC.append(ML(NB,'roc_auc'))"
   ]
  },
  {
   "cell_type": "markdown",
   "id": "51bcc305",
   "metadata": {},
   "source": [
    "### 線性邏輯回歸"
   ]
  },
  {
   "cell_type": "code",
   "execution_count": null,
   "id": "0dc67b13",
   "metadata": {},
   "outputs": [],
   "source": [
    "LR=linear_model.LogisticRegression()"
   ]
  },
  {
   "cell_type": "code",
   "execution_count": null,
   "id": "9d95c22b",
   "metadata": {},
   "outputs": [],
   "source": [
    "list_accuracy.append(ML(LR,'accuracy'))\n",
    "\n",
    "list_precision.append(ML(LR,'precision'))\n",
    "\n",
    "list_recall.append(ML(LR,'recall'))\n",
    "\n",
    "list_f1_Weight.append(ML(LR,'f1_weighted'))\n",
    "\n",
    "list_f1_Micro.append(ML(LR,'f1_micro'))\n",
    "\n",
    "list_f1_Macro.append(ML(LR,'f1_macro'))\n",
    "\n",
    "list_AUC.append(ML(LR,'roc_auc'))"
   ]
  },
  {
   "cell_type": "markdown",
   "id": "2e5b1a61",
   "metadata": {},
   "source": [
    "### KNN"
   ]
  },
  {
   "cell_type": "code",
   "execution_count": null,
   "id": "18aa9806",
   "metadata": {},
   "outputs": [],
   "source": [
    "KNN = KNeighborsClassifier()"
   ]
  },
  {
   "cell_type": "code",
   "execution_count": null,
   "id": "50ef9811",
   "metadata": {},
   "outputs": [],
   "source": [
    "list_accuracy.append(ML(KNN,'accuracy'))\n",
    "\n",
    "list_precision.append(ML(KNN,'precision'))\n",
    "\n",
    "list_recall.append(ML(KNN,'recall'))\n",
    "\n",
    "list_f1_Weight.append(ML(KNN,'f1_weighted'))\n",
    "\n",
    "list_f1_Micro.append(ML(KNN,'f1_micro'))\n",
    "\n",
    "list_f1_Macro.append(ML(KNN,'f1_macro'))\n",
    "\n",
    "list_AUC.append(ML(KNN,'roc_auc'))"
   ]
  },
  {
   "cell_type": "markdown",
   "id": "f9c72a3c",
   "metadata": {},
   "source": [
    "### SVM"
   ]
  },
  {
   "cell_type": "code",
   "execution_count": 17,
   "id": "bfb47d3d",
   "metadata": {},
   "outputs": [],
   "source": [
    "SVM=svm.SVC()"
   ]
  },
  {
   "cell_type": "code",
   "execution_count": 18,
   "id": "78e4b204",
   "metadata": {},
   "outputs": [],
   "source": [
    "list_accuracy.append(ML(SVM,'accuracy'))\n",
    "\n",
    "list_precision.append(ML(SVM,'precision'))\n",
    "\n",
    "list_recall.append(ML(SVM,'recall'))\n",
    "\n",
    "list_f1_Weight.append(ML(SVM,'f1_weighted'))\n",
    "\n",
    "list_f1_Micro.append(ML(SVM,'f1_micro'))\n",
    "\n",
    "list_f1_Macro.append(ML(SVM,'f1_macro'))\n",
    "\n",
    "list_AUC.append(ML(SVM,'roc_auc'))"
   ]
  },
  {
   "cell_type": "code",
   "execution_count": 19,
   "id": "41521b34",
   "metadata": {},
   "outputs": [],
   "source": [
    "result_title=['Decision Tree','Random Forest','Gaussian Naive Bayes','Logistic regression','KNN','SVM']\n",
    "result_dict={'TF-IDF 1000字':result_title,'Accuracy':list_accuracy,'Precision':list_precision,'Recall':list_recall,'F1_Weight':list_f1_Weight,'F1_Micro':list_f1_Micro,'F1_Macro':list_f1_Macro,'AUC':list_AUC}"
   ]
  },
  {
   "cell_type": "code",
   "execution_count": 20,
   "id": "b136e3d9",
   "metadata": {},
   "outputs": [],
   "source": [
    "df = pd.DataFrame(result_dict).T"
   ]
  },
  {
   "cell_type": "code",
   "execution_count": 21,
   "id": "a6c73b55",
   "metadata": {},
   "outputs": [],
   "source": [
    "df.to_csv (r\"..\\..\\結果\\Word_Array\\PTT_TF-IDF_1000字.csv\", index = True, header=False,encoding='utf_8_sig')"
   ]
  }
 ],
 "metadata": {
  "kernelspec": {
   "display_name": "Python 3 (ipykernel)",
   "language": "python",
   "name": "python3"
  },
  "language_info": {
   "codemirror_mode": {
    "name": "ipython",
    "version": 3
   },
   "file_extension": ".py",
   "mimetype": "text/x-python",
   "name": "python",
   "nbconvert_exporter": "python",
   "pygments_lexer": "ipython3",
   "version": "3.7.13"
  }
 },
 "nbformat": 4,
 "nbformat_minor": 5
}
